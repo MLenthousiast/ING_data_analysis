{
 "cells": [
  {
   "cell_type": "markdown",
   "metadata": {},
   "source": [
    "# TODO\n",
    "- Extreme amount extraction.\n",
    "- True income vs loaned money display.\n",
    "- Multi indexing on year, month, week, date.\n",
    "- Code refactoring."
   ]
  },
  {
   "cell_type": "code",
   "execution_count": 1,
   "metadata": {
    "collapsed": true
   },
   "outputs": [],
   "source": [
    "%matplotlib inline"
   ]
  },
  {
   "cell_type": "code",
   "execution_count": 2,
   "metadata": {
    "collapsed": true
   },
   "outputs": [],
   "source": [
    "from IPython.display import display\n",
    "from IPython.display import clear_output\n",
    "from ipywidgets import *\n",
    "import datetime as dt\n",
    "import numpy as np\n",
    "import pandas as pd\n",
    "import matplotlib.pyplot as plt\n",
    "import seaborn as sns\n",
    "import locale"
   ]
  },
  {
   "cell_type": "markdown",
   "metadata": {},
   "source": [
    "# Settings"
   ]
  },
  {
   "cell_type": "code",
   "execution_count": 3,
   "metadata": {
    "collapsed": true
   },
   "outputs": [],
   "source": [
    "locale.setlocale(locale.LC_ALL, 'en_GB.utf8');"
   ]
  },
  {
   "cell_type": "markdown",
   "metadata": {},
   "source": [
    "# Display functions"
   ]
  },
  {
   "cell_type": "code",
   "execution_count": 4,
   "metadata": {
    "collapsed": true
   },
   "outputs": [],
   "source": [
    "def amount_to_float(x):\n",
    "    return float(x) / 100.\n",
    "\n",
    "def amount_to_str(x):\n",
    "    x = amount_to_float(x)\n",
    "    return locale.format(\"%.2f\", x, grouping=True)"
   ]
  },
  {
   "cell_type": "markdown",
   "metadata": {},
   "source": [
    "# Data"
   ]
  },
  {
   "cell_type": "code",
   "execution_count": 5,
   "metadata": {
    "collapsed": true
   },
   "outputs": [],
   "source": [
    "df = pd.read_csv('afschriften.csv')"
   ]
  },
  {
   "cell_type": "code",
   "execution_count": 6,
   "metadata": {
    "collapsed": true
   },
   "outputs": [],
   "source": [
    "cats = pd.read_csv('categories.csv')"
   ]
  },
  {
   "cell_type": "markdown",
   "metadata": {},
   "source": [
    "# Preprocessing\n",
    "###### Column renaming"
   ]
  },
  {
   "cell_type": "code",
   "execution_count": 7,
   "metadata": {
    "collapsed": true
   },
   "outputs": [],
   "source": [
    "renamings = {\n",
    "    'Datum': 'date',\n",
    "    'Naam / Omschrijving': 'name',\n",
    "    'Rekening': 'account_from',\n",
    "    'Tegenrekening': 'account_to',\n",
    "    'Code': 'code',\n",
    "    'Af Bij': 'sign',\n",
    "    'Bedrag (EUR)': 'amount',\n",
    "    'MutatieSoort': 'device',\n",
    "    'Mededelingen': 'note',\n",
    "}\n",
    "df = df.rename(columns=renamings)"
   ]
  },
  {
   "cell_type": "markdown",
   "metadata": {},
   "source": [
    "###### Date parsing"
   ]
  },
  {
   "cell_type": "code",
   "execution_count": 8,
   "metadata": {},
   "outputs": [
    {
     "ename": "TypeError",
     "evalue": "'int' object is unsliceable",
     "output_type": "error",
     "traceback": [
      "\u001b[0;31m---------------------------------------------------------------------------\u001b[0m",
      "\u001b[0;31mTypeError\u001b[0m                                 Traceback (most recent call last)",
      "\u001b[0;32m<ipython-input-8-4b60b882028a>\u001b[0m in \u001b[0;36m<module>\u001b[0;34m()\u001b[0m\n\u001b[1;32m      1\u001b[0m \u001b[0;31m# Parse the date column to datetimes and set as index.\u001b[0m\u001b[0;34m\u001b[0m\u001b[0;34m\u001b[0m\u001b[0m\n\u001b[0;32m----> 2\u001b[0;31m \u001b[0mdf\u001b[0m\u001b[0;34m.\u001b[0m\u001b[0mdate\u001b[0m \u001b[0;34m=\u001b[0m \u001b[0mpd\u001b[0m\u001b[0;34m.\u001b[0m\u001b[0mto_datetime\u001b[0m\u001b[0;34m(\u001b[0m\u001b[0mdf\u001b[0m\u001b[0;34m.\u001b[0m\u001b[0mdate\u001b[0m\u001b[0;34m,\u001b[0m \u001b[0mformat\u001b[0m\u001b[0;34m=\u001b[0m\u001b[0;34m'%d%m%Y'\u001b[0m\u001b[0;34m)\u001b[0m\u001b[0;34m\u001b[0m\u001b[0m\n\u001b[0m",
      "\u001b[0;32m/home/arthur/Escritorio/projects/anaconda3/lib/python3.6/site-packages/pandas/util/decorators.py\u001b[0m in \u001b[0;36mwrapper\u001b[0;34m(*args, **kwargs)\u001b[0m\n\u001b[1;32m     89\u001b[0m                 \u001b[0;32melse\u001b[0m\u001b[0;34m:\u001b[0m\u001b[0;34m\u001b[0m\u001b[0m\n\u001b[1;32m     90\u001b[0m                     \u001b[0mkwargs\u001b[0m\u001b[0;34m[\u001b[0m\u001b[0mnew_arg_name\u001b[0m\u001b[0;34m]\u001b[0m \u001b[0;34m=\u001b[0m \u001b[0mnew_arg_value\u001b[0m\u001b[0;34m\u001b[0m\u001b[0m\n\u001b[0;32m---> 91\u001b[0;31m             \u001b[0;32mreturn\u001b[0m \u001b[0mfunc\u001b[0m\u001b[0;34m(\u001b[0m\u001b[0;34m*\u001b[0m\u001b[0margs\u001b[0m\u001b[0;34m,\u001b[0m \u001b[0;34m**\u001b[0m\u001b[0mkwargs\u001b[0m\u001b[0;34m)\u001b[0m\u001b[0;34m\u001b[0m\u001b[0m\n\u001b[0m\u001b[1;32m     92\u001b[0m         \u001b[0;32mreturn\u001b[0m \u001b[0mwrapper\u001b[0m\u001b[0;34m\u001b[0m\u001b[0m\n\u001b[1;32m     93\u001b[0m     \u001b[0;32mreturn\u001b[0m \u001b[0m_deprecate_kwarg\u001b[0m\u001b[0;34m\u001b[0m\u001b[0m\n",
      "\u001b[0;32m/home/arthur/Escritorio/projects/anaconda3/lib/python3.6/site-packages/pandas/tseries/tools.py\u001b[0m in \u001b[0;36mto_datetime\u001b[0;34m(arg, errors, dayfirst, yearfirst, utc, box, format, exact, coerce, unit, infer_datetime_format)\u001b[0m\n\u001b[1;32m    419\u001b[0m     \u001b[0;32melif\u001b[0m \u001b[0misinstance\u001b[0m\u001b[0;34m(\u001b[0m\u001b[0marg\u001b[0m\u001b[0;34m,\u001b[0m \u001b[0mABCSeries\u001b[0m\u001b[0;34m)\u001b[0m\u001b[0;34m:\u001b[0m\u001b[0;34m\u001b[0m\u001b[0m\n\u001b[1;32m    420\u001b[0m         \u001b[0;32mfrom\u001b[0m \u001b[0mpandas\u001b[0m \u001b[0;32mimport\u001b[0m \u001b[0mSeries\u001b[0m\u001b[0;34m\u001b[0m\u001b[0m\n\u001b[0;32m--> 421\u001b[0;31m         \u001b[0mvalues\u001b[0m \u001b[0;34m=\u001b[0m \u001b[0m_convert_listlike\u001b[0m\u001b[0;34m(\u001b[0m\u001b[0marg\u001b[0m\u001b[0;34m.\u001b[0m\u001b[0m_values\u001b[0m\u001b[0;34m,\u001b[0m \u001b[0;32mFalse\u001b[0m\u001b[0;34m,\u001b[0m \u001b[0mformat\u001b[0m\u001b[0;34m)\u001b[0m\u001b[0;34m\u001b[0m\u001b[0m\n\u001b[0m\u001b[1;32m    422\u001b[0m         \u001b[0;32mreturn\u001b[0m \u001b[0mSeries\u001b[0m\u001b[0;34m(\u001b[0m\u001b[0mvalues\u001b[0m\u001b[0;34m,\u001b[0m \u001b[0mindex\u001b[0m\u001b[0;34m=\u001b[0m\u001b[0marg\u001b[0m\u001b[0;34m.\u001b[0m\u001b[0mindex\u001b[0m\u001b[0;34m,\u001b[0m \u001b[0mname\u001b[0m\u001b[0;34m=\u001b[0m\u001b[0marg\u001b[0m\u001b[0;34m.\u001b[0m\u001b[0mname\u001b[0m\u001b[0;34m)\u001b[0m\u001b[0;34m\u001b[0m\u001b[0m\n\u001b[1;32m    423\u001b[0m     \u001b[0;32melif\u001b[0m \u001b[0misinstance\u001b[0m\u001b[0;34m(\u001b[0m\u001b[0marg\u001b[0m\u001b[0;34m,\u001b[0m \u001b[0;34m(\u001b[0m\u001b[0mABCDataFrame\u001b[0m\u001b[0;34m,\u001b[0m \u001b[0mMutableMapping\u001b[0m\u001b[0;34m)\u001b[0m\u001b[0;34m)\u001b[0m\u001b[0;34m:\u001b[0m\u001b[0;34m\u001b[0m\u001b[0m\n",
      "\u001b[0;32m/home/arthur/Escritorio/projects/anaconda3/lib/python3.6/site-packages/pandas/tseries/tools.py\u001b[0m in \u001b[0;36m_convert_listlike\u001b[0;34m(arg, box, format, name, tz)\u001b[0m\n\u001b[1;32m    378\u001b[0m                     \u001b[0;32mtry\u001b[0m\u001b[0;34m:\u001b[0m\u001b[0;34m\u001b[0m\u001b[0m\n\u001b[1;32m    379\u001b[0m                         result = tslib.array_strptime(arg, format, exact=exact,\n\u001b[0;32m--> 380\u001b[0;31m                                                       errors=errors)\n\u001b[0m\u001b[1;32m    381\u001b[0m                     \u001b[0;32mexcept\u001b[0m \u001b[0mtslib\u001b[0m\u001b[0;34m.\u001b[0m\u001b[0mOutOfBoundsDatetime\u001b[0m\u001b[0;34m:\u001b[0m\u001b[0;34m\u001b[0m\u001b[0m\n\u001b[1;32m    382\u001b[0m                         \u001b[0;32mif\u001b[0m \u001b[0merrors\u001b[0m \u001b[0;34m==\u001b[0m \u001b[0;34m'raise'\u001b[0m\u001b[0;34m:\u001b[0m\u001b[0;34m\u001b[0m\u001b[0m\n",
      "\u001b[0;32mpandas/tslib.pyx\u001b[0m in \u001b[0;36mpandas.tslib.array_strptime (pandas/tslib.c:62930)\u001b[0;34m()\u001b[0m\n",
      "\u001b[0;31mTypeError\u001b[0m: 'int' object is unsliceable"
     ]
    }
   ],
   "source": [
    "# Parse the date column to datetimes and set as index.\n",
    "df.date = pd.to_datetime(df.date, format='%d%m%Y')"
   ]
  },
  {
   "cell_type": "markdown",
   "metadata": {},
   "source": [
    "###### Account to parsing"
   ]
  },
  {
   "cell_type": "code",
   "execution_count": null,
   "metadata": {
    "collapsed": true
   },
   "outputs": [],
   "source": [
    "df.account_to = df.account_to.replace(np.nan, '-')"
   ]
  },
  {
   "cell_type": "markdown",
   "metadata": {},
   "source": [
    "###### Sign and amount parsing"
   ]
  },
  {
   "cell_type": "code",
   "execution_count": null,
   "metadata": {
    "collapsed": true
   },
   "outputs": [],
   "source": [
    "# Transform the sign column to symbols.\n",
    "df.sign = df.sign.apply(lambda sign: '+' if sign == 'Bij' else '-')"
   ]
  },
  {
   "cell_type": "code",
   "execution_count": null,
   "metadata": {
    "collapsed": true
   },
   "outputs": [],
   "source": [
    "# Transform amount column from str to float.\n",
    "df.amount = df.amount.replace({',': '.'}, regex=True).astype(np.float64)"
   ]
  },
  {
   "cell_type": "code",
   "execution_count": null,
   "metadata": {
    "collapsed": true
   },
   "outputs": [],
   "source": [
    "# Transform amount column from float to int, without losing the cents.\n",
    "df.amount = df.amount.apply(lambda x: x * 100).astype(int)"
   ]
  },
  {
   "cell_type": "code",
   "execution_count": null,
   "metadata": {
    "collapsed": true
   },
   "outputs": [],
   "source": [
    "# Apply the symbol in the sign column to the amounts.\n",
    "f = lambda x: x.amount if x.sign == '+' else -x.amount\n",
    "df.amount = df[['sign', 'amount']].apply(f, axis=1, broadcast=True)\n",
    "df.amount = df.amount.astype(int)"
   ]
  },
  {
   "cell_type": "markdown",
   "metadata": {},
   "source": [
    "## Data generation"
   ]
  },
  {
   "cell_type": "code",
   "execution_count": null,
   "metadata": {
    "collapsed": true
   },
   "outputs": [],
   "source": [
    "df['week'] = df.date.apply(lambda x:x.week)"
   ]
  },
  {
   "cell_type": "code",
   "execution_count": null,
   "metadata": {
    "collapsed": true
   },
   "outputs": [],
   "source": [
    "df['month'] = df.date.apply(lambda x:x.month)"
   ]
  },
  {
   "cell_type": "code",
   "execution_count": null,
   "metadata": {
    "collapsed": true
   },
   "outputs": [],
   "source": [
    "df['year'] = df.date.apply(lambda x:x.year)"
   ]
  },
  {
   "cell_type": "markdown",
   "metadata": {},
   "source": [
    "###### Finished"
   ]
  },
  {
   "cell_type": "code",
   "execution_count": null,
   "metadata": {
    "collapsed": true
   },
   "outputs": [],
   "source": [
    "display(df.head())"
   ]
  },
  {
   "cell_type": "markdown",
   "metadata": {},
   "source": [
    "# Categorisation\n",
    "## Categories"
   ]
  },
  {
   "cell_type": "code",
   "execution_count": null,
   "metadata": {
    "collapsed": true
   },
   "outputs": [],
   "source": [
    "def create_category_overview(df, cats):\n",
    "    df = df.loc[:, ('account_to', 'amount')]\n",
    "    df = pd.merge(cats, df, on='account_to').drop('account_to', axis=1)\n",
    "    df = df.groupby('category').sum()\n",
    "    return df\n",
    "\n",
    "def print_category_overview(overview):\n",
    "    overview = overview.sort_values(by='amount')\n",
    "    overview.amount = overview.amount.apply(amount_to_str)\n",
    "    display(overview)"
   ]
  },
  {
   "cell_type": "markdown",
   "metadata": {},
   "source": [
    "## Uncategorised"
   ]
  },
  {
   "cell_type": "code",
   "execution_count": null,
   "metadata": {
    "collapsed": true
   },
   "outputs": [],
   "source": [
    "def print_uncategorised(df):\n",
    "    idxs = ~df.account_to.isin(cats.account_to), ('name', 'account_to', 'amount')\n",
    "    display(df.loc[idxs])"
   ]
  },
  {
   "cell_type": "markdown",
   "metadata": {},
   "source": [
    "# Overview: income & expense"
   ]
  },
  {
   "cell_type": "code",
   "execution_count": null,
   "metadata": {
    "collapsed": true
   },
   "outputs": [],
   "source": [
    "def describe(s):\n",
    "    \"\"\"Creates a custom description of a series.\n",
    "    \"\"\"\n",
    "    return {\n",
    "        'total': s.sum(),\n",
    "        'positive': s.loc[s >= 0].sum(),\n",
    "        'negative': s.loc[s < 0].sum(),\n",
    "        'min': s.min(),\n",
    "        'max': s.max(),\n",
    "        'avg': s.mean(),\n",
    "        'median': s.median(),\n",
    "#         'mode': s.mode(),\n",
    "        'count': s.count(),\n",
    "    }\n",
    "\n",
    "# TODO: fix formatting with plus/minus signs.\n",
    "def print_description(d, name):\n",
    "    \"\"\"Prints a description. \n",
    "    \n",
    "    Naming is based on the assumption that\n",
    "    the description describes a revenue stream.\n",
    "    \"\"\"\n",
    "    # All amounts to str representation.\n",
    "    d = {k: v if k == 'count' else amount_to_str(v) for k, v in d.items()}\n",
    "    \n",
    "    print('--- {} ---'.format(name))\n",
    "    print('expense {}'.format(d['negative']))\n",
    "    print('revenue  {}'.format(d['positive']))\n",
    "    print('income  {}'.format(d['total']))\n",
    "    print()\n",
    "    print('count    {}'.format(d['count']))\n",
    "    print('min     {}'.format(d['min']))\n",
    "    print('max      {}'.format(d['max']))\n",
    "    print('avg     {}'.format(d['avg']))\n",
    "    print('median  {}'.format(d['median']))\n",
    "#     print('mode    {:.0f}'.format(d['mode']))"
   ]
  },
  {
   "cell_type": "code",
   "execution_count": null,
   "metadata": {
    "collapsed": true
   },
   "outputs": [],
   "source": [
    "def summed_mutation_overview(period):\n",
    "    \"\"\"Sums all mutations per account_to and adds name to each account.\n",
    "    \n",
    "    df: Entire history in a DataFrame.\n",
    "    start: DateTime for start (inclusive) of the period.\n",
    "    end: DateTime for end (inclusive) of the period.\n",
    "    Returns: DataFrame with columns 'account_to, name, amount'. Amounts\n",
    "        are summed by account_to. The first name found for an account_to\n",
    "        in the df is assigned as a value in the respective name column. \n",
    "        The only exception to this is the account_to with value '-', this\n",
    "        gets the name '-'.\n",
    "    \"\"\"\n",
    "    # Combine amounts with respect to the account_to and add a name.\n",
    "    accountto_amount = period[['account_to', 'amount']].groupby('account_to', as_index=False).sum()\n",
    "    accountto_name = period[['account_to', 'name']].groupby('account_to', as_index=False).first()\n",
    "    overview = pd.merge(accountto_name, accountto_amount, how='left', on='account_to')\n",
    "    # Assigning name '-' to account_to == '-'.\n",
    "    overview.loc[overview.account_to == '-', 'name'] = '-'\n",
    "    # Prettify and sort.\n",
    "    overview = overview.sort_values(by=['amount'])\n",
    "    overview.amount = overview.amount.apply(amount_to_str)\n",
    "    return overview"
   ]
  },
  {
   "cell_type": "markdown",
   "metadata": {},
   "source": [
    "# Period selector\n",
    "Select a period by adjusting the sliders, then select the cell below the sliders and run \"Run all below\"."
   ]
  },
  {
   "cell_type": "code",
   "execution_count": null,
   "metadata": {
    "collapsed": true
   },
   "outputs": [],
   "source": [
    "def get_period(df,\n",
    "               start=dt.date.today().replace(year=1900),\n",
    "               end=dt.date.today()):\n",
    "    period = df.loc[df.date >= start]\n",
    "    return period.loc[period.date <= end]"
   ]
  },
  {
   "cell_type": "code",
   "execution_count": null,
   "metadata": {
    "collapsed": true
   },
   "outputs": [],
   "source": [
    "dates = df.date\n",
    "start = dates.iloc[-1]\n",
    "end = dates.iloc[0]\n",
    "drange = pd.date_range(start, end)\n",
    "drange = [pd.to_datetime(str(i)).strftime('%d.%m.%Y') for i in drange.values]\n",
    "\n",
    "start_slider = widgets.SelectionSlider(\n",
    "    options=drange,\n",
    "    value=drange[0],\n",
    "    description='Start:',\n",
    "    disabled=False,\n",
    "    continuous_update=False,\n",
    "    orientation='horizontal',\n",
    "    readout=True,\n",
    ")\n",
    "\n",
    "end_slider = widgets.SelectionSlider(\n",
    "    options=drange,\n",
    "    value=drange[-1],\n",
    "    description='End:',\n",
    "    disabled=False,\n",
    "    continuous_update=False,\n",
    "    orientation='horizontal',\n",
    "    readout=True,\n",
    ")\n",
    "\n",
    "display(start_slider, end_slider)"
   ]
  },
  {
   "cell_type": "code",
   "execution_count": null,
   "metadata": {
    "collapsed": true
   },
   "outputs": [],
   "source": [
    "def current_month_start():\n",
    "    start = dt.date.today()\n",
    "    if start.day > 25:\n",
    "        start += dt.timedelta(7)\n",
    "    return start.replace(day=1)\n",
    "\n",
    "use_slider = True\n",
    "if use_slider:\n",
    "#     period = get_period(df, start_slider.value, end_slider.value)\n",
    "    period = get_period(df, pd.Timestamp('2017-03-01'), pd.Timestamp('2017-04-30'))\n",
    "else:\n",
    "    period = get_period(df, current_month_start())"
   ]
  },
  {
   "cell_type": "markdown",
   "metadata": {},
   "source": [
    "## Tables and graphs"
   ]
  },
  {
   "cell_type": "markdown",
   "metadata": {},
   "source": [
    "### Description"
   ]
  },
  {
   "cell_type": "code",
   "execution_count": null,
   "metadata": {
    "collapsed": true
   },
   "outputs": [],
   "source": [
    "print_description(describe(period.amount), \"TOTAL\")"
   ]
  },
  {
   "cell_type": "markdown",
   "metadata": {},
   "source": [
    "### Account mutations"
   ]
  },
  {
   "cell_type": "code",
   "execution_count": null,
   "metadata": {
    "collapsed": true
   },
   "outputs": [],
   "source": [
    "summed_mutation_overview(period)"
   ]
  },
  {
   "cell_type": "markdown",
   "metadata": {},
   "source": [
    "### Category mutations"
   ]
  },
  {
   "cell_type": "code",
   "execution_count": null,
   "metadata": {
    "collapsed": true
   },
   "outputs": [],
   "source": [
    "print_category_overview(create_category_overview(period, cats))"
   ]
  },
  {
   "cell_type": "markdown",
   "metadata": {},
   "source": [
    "#### Uncategorised"
   ]
  },
  {
   "cell_type": "code",
   "execution_count": null,
   "metadata": {
    "collapsed": true
   },
   "outputs": [],
   "source": [
    "print_uncategorised(period)"
   ]
  },
  {
   "cell_type": "markdown",
   "metadata": {},
   "source": [
    "### Balance"
   ]
  },
  {
   "cell_type": "code",
   "execution_count": null,
   "metadata": {
    "collapsed": true,
    "scrolled": false
   },
   "outputs": [],
   "source": [
    "period = period.sort_values('date', ascending=True)\n",
    "period['balance'] = period.amount.cumsum()"
   ]
  },
  {
   "cell_type": "code",
   "execution_count": null,
   "metadata": {
    "collapsed": true
   },
   "outputs": [],
   "source": [
    "values = period.loc[:, ['date', 'amount']].groupby('date', as_index=True).sum()\n",
    "values['balance'] = values.amount.cumsum()\n",
    "values.balance.map(amount_to_float).plot(kind='line');"
   ]
  },
  {
   "cell_type": "code",
   "execution_count": null,
   "metadata": {
    "collapsed": true
   },
   "outputs": [],
   "source": [
    "values = period.loc[:, ['date', 'amount']].groupby('date', as_index=True).sum()\n",
    "values.amount.map(amount_to_float).plot(kind='bar');"
   ]
  },
  {
   "cell_type": "markdown",
   "metadata": {},
   "source": [
    "##### Heatmaps"
   ]
  },
  {
   "cell_type": "code",
   "execution_count": null,
   "metadata": {
    "collapsed": true
   },
   "outputs": [],
   "source": [
    "pt_ym_amount = period[['year','month','amount']].groupby(['year','month'], as_index=False).sum()\n",
    "pt_ym_amount.amount = pt_ym_amount.amount.map(amount_to_float)\n",
    "pt_ym_amount = pt_ym_amount.pivot('year','month','amount')"
   ]
  },
  {
   "cell_type": "code",
   "execution_count": null,
   "metadata": {
    "collapsed": true,
    "scrolled": true
   },
   "outputs": [],
   "source": [
    "cmap = sns.diverging_palette(20, 220, sep=20, as_cmap=True)\n",
    "fig, ax = plt.subplots(figsize=(12,5)) \n",
    "sns.heatmap(pt_ym_amount, linewidth=.4, fmt='.0f', annot=True, cmap=cmap, ax=ax);"
   ]
  },
  {
   "cell_type": "code",
   "execution_count": null,
   "metadata": {
    "collapsed": true
   },
   "outputs": [],
   "source": [
    "pt_ym_balance = period[['year','month','balance']].groupby(['year','month'], as_index=False).sum()\n",
    "pt_ym_balance.balance = pt_ym_balance.balance.map(amount_to_float)\n",
    "pt_ym_balance = pt_ym_balance.pivot('year','month','balance')"
   ]
  },
  {
   "cell_type": "code",
   "execution_count": null,
   "metadata": {
    "collapsed": true,
    "scrolled": true
   },
   "outputs": [],
   "source": [
    "cmap = sns.diverging_palette(20, 220, sep=20, as_cmap=True)\n",
    "fig, ax = plt.subplots(figsize=(12,5)) \n",
    "sns.heatmap(pt_ym_balance, linewidth=.4, fmt='.0f', annot=True, cmap=cmap, ax=ax);"
   ]
  },
  {
   "cell_type": "markdown",
   "metadata": {},
   "source": [
    "# Reports and reasoning"
   ]
  },
  {
   "cell_type": "markdown",
   "metadata": {},
   "source": [
    "### (Normal) spending/income"
   ]
  },
  {
   "cell_type": "code",
   "execution_count": null,
   "metadata": {
    "collapsed": true
   },
   "outputs": [],
   "source": [
    "def display_bounded_range(df, lbound, rbound):\n",
    "    mask = df.amount.between(lbound, rbound)\n",
    "    amounts = df.amount.loc[mask]\n",
    "    \n",
    "    perc = 100.0 * (float(amounts.count()) / float(df.amount.count()))\n",
    "    print('Percentage {:.2f}%'.format(perc))\n",
    "    \n",
    "    amounts = amounts.map(amount_to_float)\n",
    "    sns.distplot(amounts, hist=False, rug=True)\n",
    "    return amounts.map(amount_to_str)"
   ]
  },
  {
   "cell_type": "markdown",
   "metadata": {},
   "source": [
    "## Std based"
   ]
  },
  {
   "cell_type": "code",
   "execution_count": null,
   "metadata": {
    "collapsed": true
   },
   "outputs": [],
   "source": [
    "records = df.loc[df.sign == '+']\n",
    "records.amount = records.amount.map(abs)\n",
    "records = records.sort_values('amount')\n",
    "std = records.amount.std()\n",
    "std"
   ]
  },
  {
   "cell_type": "code",
   "execution_count": null,
   "metadata": {
    "collapsed": true
   },
   "outputs": [],
   "source": [
    "values = display_bounded_range(records, 0, std)"
   ]
  },
  {
   "cell_type": "code",
   "execution_count": null,
   "metadata": {
    "collapsed": true
   },
   "outputs": [],
   "source": [
    "values = display_bounded_range(records, 1*std, 2*std)"
   ]
  },
  {
   "cell_type": "code",
   "execution_count": null,
   "metadata": {
    "collapsed": true
   },
   "outputs": [],
   "source": [
    "values = display_bounded_range(records, 0, 2*std)"
   ]
  },
  {
   "cell_type": "code",
   "execution_count": null,
   "metadata": {
    "collapsed": true
   },
   "outputs": [],
   "source": [
    "values = display_bounded_range(records, 2*std, 3*std)"
   ]
  },
  {
   "cell_type": "code",
   "execution_count": null,
   "metadata": {
    "collapsed": true
   },
   "outputs": [],
   "source": [
    "values = display_bounded_range(records, 0, 3*std)"
   ]
  },
  {
   "cell_type": "code",
   "execution_count": null,
   "metadata": {
    "collapsed": true
   },
   "outputs": [],
   "source": [
    "values = display_bounded_range(records, 3*std, np.inf)"
   ]
  },
  {
   "cell_type": "code",
   "execution_count": null,
   "metadata": {
    "collapsed": true
   },
   "outputs": [],
   "source": [
    "values = display_bounded_range(records, 0, np.inf)"
   ]
  },
  {
   "cell_type": "markdown",
   "metadata": {},
   "source": [
    "## Quantile based"
   ]
  },
  {
   "cell_type": "code",
   "execution_count": null,
   "metadata": {
    "collapsed": true
   },
   "outputs": [],
   "source": [
    "rbound = records.amount.quantile(.75)\n",
    "values = display_bounded_range(records, 0, rbound)"
   ]
  },
  {
   "cell_type": "code",
   "execution_count": null,
   "metadata": {
    "collapsed": true
   },
   "outputs": [],
   "source": [
    "rbound = records.amount.quantile(.95)\n",
    "values = display_bounded_range(records, 0, rbound)"
   ]
  },
  {
   "cell_type": "code",
   "execution_count": null,
   "metadata": {
    "collapsed": true
   },
   "outputs": [],
   "source": [
    "rbound = records.amount.quantile(.99)\n",
    "values = display_bounded_range(records, 0, rbound)"
   ]
  }
 ],
 "metadata": {
  "kernelspec": {
   "display_name": "Python 3",
   "language": "python",
   "name": "python3"
  },
  "language_info": {
   "codemirror_mode": {
    "name": "ipython",
    "version": 3
   },
   "file_extension": ".py",
   "mimetype": "text/x-python",
   "name": "python",
   "nbconvert_exporter": "python",
   "pygments_lexer": "ipython3",
   "version": "3.6.0"
  },
  "widgets": {
   "state": {
    "62ec8b89bae64a369381b8c27275c050": {
     "views": [
      {
       "cell_index": 28
      }
     ]
    }
   },
   "version": "1.2.0"
  }
 },
 "nbformat": 4,
 "nbformat_minor": 2
}
