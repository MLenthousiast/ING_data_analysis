{
 "cells": [
  {
   "cell_type": "markdown",
   "metadata": {},
   "source": [
    "# TODO\n",
    "- Rolling window views.\n",
    "- Extreme amount extraction.\n",
    "- True income vs loaned money display.\n",
    "- Code refactoring."
   ]
  },
  {
   "cell_type": "code",
   "execution_count": null,
   "metadata": {
    "collapsed": true
   },
   "outputs": [],
   "source": [
    "%matplotlib inline"
   ]
  },
  {
   "cell_type": "code",
   "execution_count": null,
   "metadata": {},
   "outputs": [],
   "source": [
    "from IPython.display import display\n",
    "from IPython.display import clear_output\n",
    "from ipywidgets import *\n",
    "import datetime as dt\n",
    "import numpy as np\n",
    "import pandas as pd\n",
    "import matplotlib.pyplot as plt\n",
    "import seaborn as sns\n",
    "import locale"
   ]
  },
  {
   "cell_type": "markdown",
   "metadata": {},
   "source": [
    "# Settings"
   ]
  },
  {
   "cell_type": "code",
   "execution_count": null,
   "metadata": {},
   "outputs": [],
   "source": [
    "locale.setlocale(locale.LC_ALL, 'en_GB.utf8');"
   ]
  },
  {
   "cell_type": "markdown",
   "metadata": {},
   "source": [
    "# Generic functions"
   ]
  },
  {
   "cell_type": "code",
   "execution_count": null,
   "metadata": {},
   "outputs": [],
   "source": [
    "def amount_to_str(x):\n",
    "    x = float(x)\n",
    "    x /= 100.0\n",
    "    return locale.format(\"%.2f\", x, grouping=True)"
   ]
  },
  {
   "cell_type": "code",
   "execution_count": null,
   "metadata": {
    "collapsed": true
   },
   "outputs": [],
   "source": [
    "def get_period(df,\n",
    "               start=dt.date.today().replace(year=1900),\n",
    "               end=dt.date.today()):\n",
    "    period = df.loc[df.date >= start]\n",
    "    return period.loc[period.date <= end]"
   ]
  },
  {
   "cell_type": "markdown",
   "metadata": {},
   "source": [
    "# Data"
   ]
  },
  {
   "cell_type": "code",
   "execution_count": null,
   "metadata": {
    "collapsed": true
   },
   "outputs": [],
   "source": [
    "df = pd.read_csv('afschriften.csv')"
   ]
  },
  {
   "cell_type": "code",
   "execution_count": null,
   "metadata": {},
   "outputs": [],
   "source": [
    "cats = pd.read_csv('categories.csv')"
   ]
  },
  {
   "cell_type": "markdown",
   "metadata": {},
   "source": [
    "# Preprocessing\n",
    "###### Column renaming"
   ]
  },
  {
   "cell_type": "code",
   "execution_count": null,
   "metadata": {},
   "outputs": [],
   "source": [
    "renamings = {\n",
    "    'Datum': 'date',\n",
    "    'Naam / Omschrijving': 'name',\n",
    "    'Rekening': 'account_from',\n",
    "    'Tegenrekening': 'account_to',\n",
    "    'Code': 'code',\n",
    "    'Af Bij': 'sign',\n",
    "    'Bedrag (EUR)': 'amount',\n",
    "    'MutatieSoort': 'device',\n",
    "    'Mededelingen': 'note',\n",
    "}\n",
    "df = df.rename(columns=renamings)"
   ]
  },
  {
   "cell_type": "markdown",
   "metadata": {},
   "source": [
    "###### Date parsing"
   ]
  },
  {
   "cell_type": "code",
   "execution_count": null,
   "metadata": {},
   "outputs": [],
   "source": [
    "# Parse the date column to datetimes and set as index.\n",
    "df.date = pd.to_datetime(df.date, format='%Y%m%d')"
   ]
  },
  {
   "cell_type": "code",
   "execution_count": null,
   "metadata": {},
   "outputs": [],
   "source": [
    "df['week'] = df.date.apply(lambda x:x.week)"
   ]
  },
  {
   "cell_type": "code",
   "execution_count": null,
   "metadata": {},
   "outputs": [],
   "source": [
    "# df['month'] = df.date.apply(lambda x:str(x.strftime(\"%B\")))\n",
    "df['month'] = df.date.apply(lambda x:x.month)"
   ]
  },
  {
   "cell_type": "code",
   "execution_count": null,
   "metadata": {},
   "outputs": [],
   "source": [
    "df['year'] = df.date.apply(lambda x:x.year)"
   ]
  },
  {
   "cell_type": "markdown",
   "metadata": {},
   "source": [
    "###### Account to parsing"
   ]
  },
  {
   "cell_type": "code",
   "execution_count": null,
   "metadata": {},
   "outputs": [],
   "source": [
    "df.account_to = df.account_to.replace(np.nan, '-')"
   ]
  },
  {
   "cell_type": "markdown",
   "metadata": {},
   "source": [
    "###### Sign and amount parsing"
   ]
  },
  {
   "cell_type": "code",
   "execution_count": null,
   "metadata": {},
   "outputs": [],
   "source": [
    "# Transform the sign column to symbols.\n",
    "df.sign = df.sign.apply(lambda sign: '+' if sign == 'Bij' else '-')"
   ]
  },
  {
   "cell_type": "code",
   "execution_count": null,
   "metadata": {
    "collapsed": true
   },
   "outputs": [],
   "source": [
    "# Transform amount column from str to float.\n",
    "df.amount = df.amount.replace({',': '.'}, regex=True).astype(np.float64)"
   ]
  },
  {
   "cell_type": "code",
   "execution_count": null,
   "metadata": {},
   "outputs": [],
   "source": [
    "# Transform amount column from float to int, without losing the cents.\n",
    "df.amount = df.amount.apply(lambda x: x * 100).astype(int)"
   ]
  },
  {
   "cell_type": "code",
   "execution_count": null,
   "metadata": {},
   "outputs": [],
   "source": [
    "# Apply the symbol in the sign column to the amounts.\n",
    "f = lambda x: x.amount if x.sign == '+' else -x.amount\n",
    "df.amount = df[['sign', 'amount']].apply(f, axis=1, broadcast=True)\n",
    "df.amount = df.amount.astype(int)"
   ]
  },
  {
   "cell_type": "code",
   "execution_count": null,
   "metadata": {},
   "outputs": [],
   "source": [
    "df['balance'] = df.amount.cumsum()"
   ]
  },
  {
   "cell_type": "markdown",
   "metadata": {},
   "source": [
    "###### Finished"
   ]
  },
  {
   "cell_type": "code",
   "execution_count": null,
   "metadata": {},
   "outputs": [],
   "source": [
    "display(df.head())"
   ]
  },
  {
   "cell_type": "markdown",
   "metadata": {},
   "source": [
    "# Period selector"
   ]
  },
  {
   "cell_type": "code",
   "execution_count": null,
   "metadata": {},
   "outputs": [],
   "source": [
    "dates = df.date\n",
    "start = dates.iloc[-1]\n",
    "end = dates.iloc[0]\n",
    "drange = pd.date_range(start, end)\n",
    "drange = [pd.to_datetime(str(i)).strftime('%Y.%m.%d') for i in drange.values]\n",
    "\n",
    "start_slider = widgets.SelectionSlider(\n",
    "    options=drange,\n",
    "    value=drange[0],\n",
    "    description='Start:',\n",
    "    disabled=False,\n",
    "    continuous_update=False,\n",
    "    orientation='horizontal',\n",
    "    readout=True,\n",
    ")\n",
    "\n",
    "end_slider = widgets.SelectionSlider(\n",
    "    options=drange,\n",
    "    value=drange[-1],\n",
    "    description='End:',\n",
    "    disabled=False,\n",
    "    continuous_update=False,\n",
    "    orientation='horizontal',\n",
    "    readout=True,\n",
    ")\n",
    "\n",
    "submit_btn = widgets.Button(\n",
    "    description='Select period',\n",
    "    button_style='info'\n",
    ")\n",
    "\n",
    "def on_button_clicked(btn):\n",
    "    clear_output()\n",
    "    print('{} {}'.format(start_slider.value, end_slider.value))\n",
    "    display(get_period(df, start_slider.value, end_slider.value))\n",
    "    \n",
    "submit_btn.on_click(on_button_clicked)\n",
    "\n",
    "display(start_slider, end_slider, submit_btn)"
   ]
  },
  {
   "cell_type": "markdown",
   "metadata": {},
   "source": [
    "# Categorisation\n",
    "## Categories"
   ]
  },
  {
   "cell_type": "code",
   "execution_count": null,
   "metadata": {},
   "outputs": [],
   "source": [
    "def create_category_overview(df, cats):\n",
    "    df = df.loc[:, ('account_to', 'amount')]\n",
    "    df = pd.merge(cats, df, on='account_to').drop('account_to', axis=1)\n",
    "    df = df.groupby('category').sum()\n",
    "    return df\n",
    "\n",
    "def print_category_overview(overview):\n",
    "    overview = overview.sort_values(by='amount')\n",
    "    overview.amount = overview.amount.apply(amount_to_str)\n",
    "    display(overview)"
   ]
  },
  {
   "cell_type": "markdown",
   "metadata": {},
   "source": [
    "## Uncategorised"
   ]
  },
  {
   "cell_type": "code",
   "execution_count": null,
   "metadata": {
    "collapsed": true
   },
   "outputs": [],
   "source": [
    "def print_uncategorised(df):\n",
    "    idxs = ~df.account_to.isin(cats.account_to), ('name', 'account_to', 'amount')\n",
    "    display(df.loc[idxs])"
   ]
  },
  {
   "cell_type": "markdown",
   "metadata": {},
   "source": [
    "# Overview: income & expense"
   ]
  },
  {
   "cell_type": "code",
   "execution_count": null,
   "metadata": {},
   "outputs": [],
   "source": [
    "def describe(s):\n",
    "    \"\"\"Creates a custom description of a series.\n",
    "    \"\"\"\n",
    "    return {\n",
    "        'total': s.sum(),\n",
    "        'positive': s.loc[s >= 0].sum(),\n",
    "        'negative': s.loc[s < 0].sum(),\n",
    "        'min': s.min(),\n",
    "        'max': s.max(),\n",
    "        'avg': s.mean(),\n",
    "        'median': s.median(),\n",
    "#         'mode': s.mode(),\n",
    "        'count': s.count(),\n",
    "    }\n",
    "\n",
    "# TODO: fix formatting with plus/minus signs.\n",
    "def print_description(d, name):\n",
    "    \"\"\"Prints a description. \n",
    "    \n",
    "    Naming is based on the assumption that\n",
    "    the description describes a revenue stream.\n",
    "    \"\"\"\n",
    "    # All amounts to str representation.\n",
    "    d = {k: v if k == 'count' else amount_to_str(v) for k, v in d.items()}\n",
    "    \n",
    "    print('--- {} ---'.format(name))\n",
    "    print('expense {}'.format(d['negative']))\n",
    "    print('revenue  {}'.format(d['positive']))\n",
    "    print('income  {}'.format(d['total']))\n",
    "    print()\n",
    "    print('count    {}'.format(d['count']))\n",
    "    print('min     {}'.format(d['min']))\n",
    "    print('max      {}'.format(d['max']))\n",
    "    print('avg     {}'.format(d['avg']))\n",
    "    print('median  {}'.format(d['median']))\n",
    "#     print('mode    {:.0f}'.format(d['mode']))"
   ]
  },
  {
   "cell_type": "code",
   "execution_count": null,
   "metadata": {},
   "outputs": [],
   "source": [
    "def summed_mutation_overview(period):\n",
    "    \"\"\"Sums all mutations per account_to and adds name to each account.\n",
    "    \n",
    "    df: Entire history in a DataFrame.\n",
    "    start: DateTime for start (inclusive) of the period.\n",
    "    end: DateTime for end (inclusive) of the period.\n",
    "    Returns: DataFrame with columns 'account_to, name, amount'. Amounts\n",
    "        are summed by account_to. The first name found for an account_to\n",
    "        in the df is assigned as a value in the respective name column. \n",
    "        The only exception to this is the account_to with value '-', this\n",
    "        gets the name '-'.\n",
    "    \"\"\"\n",
    "    # Combine amounts with respect to the account_to and add a name.\n",
    "    accountto_amount = period[['account_to', 'amount']].groupby('account_to', as_index=False).sum()\n",
    "    accountto_name = period[['account_to', 'name']].groupby('account_to', as_index=False).first()\n",
    "    overview = pd.merge(accountto_name, accountto_amount, how='left', on='account_to')\n",
    "    # Assigning name '-' to account_to == '-'.\n",
    "    overview.loc[overview.account_to == '-', 'name'] = '-'\n",
    "    # Prettify and sort.\n",
    "    overview = overview.sort_values(by=['amount'])\n",
    "    overview.amount = overview.amount.apply(amount_to_str)\n",
    "    return overview"
   ]
  },
  {
   "cell_type": "markdown",
   "metadata": {},
   "source": [
    "## Current month"
   ]
  },
  {
   "cell_type": "code",
   "execution_count": null,
   "metadata": {
    "collapsed": true
   },
   "outputs": [],
   "source": [
    "def current_month_start():\n",
    "    start = dt.date.today()\n",
    "    if start.day > 25:\n",
    "        start += dt.timedelta(7)\n",
    "    return start.replace(day=1)"
   ]
  },
  {
   "cell_type": "code",
   "execution_count": null,
   "metadata": {},
   "outputs": [],
   "source": [
    "period = get_period(df, current_month_start())"
   ]
  },
  {
   "cell_type": "markdown",
   "metadata": {},
   "source": [
    "### Description"
   ]
  },
  {
   "cell_type": "code",
   "execution_count": null,
   "metadata": {},
   "outputs": [],
   "source": [
    "print_description(describe(period.amount), \"CURRENT MONTH\")"
   ]
  },
  {
   "cell_type": "markdown",
   "metadata": {},
   "source": [
    "### Account mutations"
   ]
  },
  {
   "cell_type": "code",
   "execution_count": null,
   "metadata": {},
   "outputs": [],
   "source": [
    "summed_mutation_overview(period)"
   ]
  },
  {
   "cell_type": "markdown",
   "metadata": {},
   "source": [
    "### Category mutations"
   ]
  },
  {
   "cell_type": "code",
   "execution_count": null,
   "metadata": {},
   "outputs": [],
   "source": [
    "print_category_overview(create_category_overview(period, cats))"
   ]
  },
  {
   "cell_type": "markdown",
   "metadata": {},
   "source": [
    "#### Uncategorised"
   ]
  },
  {
   "cell_type": "code",
   "execution_count": null,
   "metadata": {},
   "outputs": [],
   "source": [
    "print_uncategorised(period)"
   ]
  },
  {
   "cell_type": "markdown",
   "metadata": {},
   "source": [
    "## Last 4 weeks"
   ]
  },
  {
   "cell_type": "markdown",
   "metadata": {},
   "source": [
    "## All"
   ]
  },
  {
   "cell_type": "markdown",
   "metadata": {},
   "source": [
    "### Description"
   ]
  },
  {
   "cell_type": "code",
   "execution_count": null,
   "metadata": {},
   "outputs": [],
   "source": [
    "print_description(describe(df.amount), \"TOTAL\")"
   ]
  },
  {
   "cell_type": "markdown",
   "metadata": {},
   "source": [
    "### Account mutations"
   ]
  },
  {
   "cell_type": "code",
   "execution_count": null,
   "metadata": {},
   "outputs": [],
   "source": [
    "summed_mutation_overview(df)"
   ]
  },
  {
   "cell_type": "markdown",
   "metadata": {},
   "source": [
    "### Category mutations"
   ]
  },
  {
   "cell_type": "code",
   "execution_count": null,
   "metadata": {},
   "outputs": [],
   "source": [
    "print_category_overview(create_category_overview(df, cats))"
   ]
  },
  {
   "cell_type": "markdown",
   "metadata": {},
   "source": [
    "#### Uncategorised"
   ]
  },
  {
   "cell_type": "code",
   "execution_count": null,
   "metadata": {},
   "outputs": [],
   "source": [
    "print_uncategorised(df)"
   ]
  },
  {
   "cell_type": "markdown",
   "metadata": {},
   "source": [
    "##### Heatmaps"
   ]
  },
  {
   "cell_type": "code",
   "execution_count": null,
   "metadata": {},
   "outputs": [],
   "source": [
    "pt_ym_amount = df[['year','month','amount']].groupby(['year','month'], as_index=False).sum()\n",
    "pt_ym_amount = pt_ym_amount.pivot('year','month','amount')\n",
    "# display(pt_ym_amount)"
   ]
  },
  {
   "cell_type": "code",
   "execution_count": null,
   "metadata": {
    "scrolled": true
   },
   "outputs": [],
   "source": [
    "cmap = sns.diverging_palette(20, 220, sep=20, as_cmap=True)\n",
    "fig, ax = plt.subplots(figsize=(12,5)) \n",
    "sns.heatmap(pt_ym_amount, linewidth=.4, fmt='.0f', annot=True, cmap=cmap, ax=ax);"
   ]
  },
  {
   "cell_type": "code",
   "execution_count": null,
   "metadata": {},
   "outputs": [],
   "source": [
    "pt_ym_balance = df[['year','month','balance']].groupby(['year','month'], as_index=False).sum()\n",
    "pt_ym_balance = pt_ym_balance.pivot('year','month','balance')\n",
    "#display(pt_ym_balance)"
   ]
  },
  {
   "cell_type": "code",
   "execution_count": null,
   "metadata": {
    "scrolled": true
   },
   "outputs": [],
   "source": [
    "cmap = sns.diverging_palette(20, 220, sep=20, as_cmap=True)\n",
    "fig, ax = plt.subplots(figsize=(12,5)) \n",
    "sns.heatmap(pt_ym_balance, linewidth=.4, fmt='.0f', annot=True, cmap=cmap, ax=ax);"
   ]
  }
 ],
 "metadata": {
  "kernelspec": {
   "display_name": "Python 3",
   "language": "python",
   "name": "python3"
  },
  "language_info": {
   "codemirror_mode": {
    "name": "ipython",
    "version": 3
   },
   "file_extension": ".py",
   "mimetype": "text/x-python",
   "name": "python",
   "nbconvert_exporter": "python",
   "pygments_lexer": "ipython3",
   "version": "3.6.0"
  },
  "widgets": {
   "state": {
    "62ec8b89bae64a369381b8c27275c050": {
     "views": [
      {
       "cell_index": 28
      }
     ]
    }
   },
   "version": "1.2.0"
  }
 },
 "nbformat": 4,
 "nbformat_minor": 2
}
