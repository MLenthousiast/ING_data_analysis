{
 "cells": [
  {
   "cell_type": "markdown",
   "metadata": {},
   "source": [
    "# TODO\n",
    "- Rolling window views.\n",
    "- Extreme amount extraction.\n",
    "- True income vs loaned money display.\n",
    "- Code refactoring."
   ]
  },
  {
   "cell_type": "code",
   "execution_count": 61,
   "metadata": {
    "collapsed": true
   },
   "outputs": [],
   "source": [
    "%matplotlib inline"
   ]
  },
  {
   "cell_type": "code",
   "execution_count": 62,
   "metadata": {
    "collapsed": false
   },
   "outputs": [],
   "source": [
    "from IPython.display import display\n",
    "from IPython.display import clear_output\n",
    "from ipywidgets import *\n",
    "import datetime as dt\n",
    "import numpy as np\n",
    "import pandas as pd\n",
    "import matplotlib.pyplot as plt\n",
    "import seaborn as sns\n",
    "import locale"
   ]
  },
  {
   "cell_type": "markdown",
   "metadata": {},
   "source": [
    "# Settings"
   ]
  },
  {
   "cell_type": "code",
   "execution_count": 63,
   "metadata": {
    "collapsed": false
   },
   "outputs": [],
   "source": [
    "locale.setlocale(locale.LC_ALL, 'en_GB.utf8');"
   ]
  },
  {
   "cell_type": "markdown",
   "metadata": {},
   "source": [
    "# Generic functions"
   ]
  },
  {
   "cell_type": "code",
   "execution_count": 64,
   "metadata": {
    "collapsed": false
   },
   "outputs": [],
   "source": [
    "def amount_to_str(x):\n",
    "    x = float(x)\n",
    "    x /= 100.0\n",
    "    return locale.format(\"%.2f\", x, grouping=True)"
   ]
  },
  {
   "cell_type": "code",
   "execution_count": 65,
   "metadata": {
    "collapsed": true
   },
   "outputs": [],
   "source": [
    "def get_period(df,\n",
    "               start=dt.date.today().replace(year=1900),\n",
    "               end=dt.date.today()):\n",
    "    period = df.loc[df.date >= start]\n",
    "    return period.loc[period.date <= end]"
   ]
  },
  {
   "cell_type": "markdown",
   "metadata": {},
   "source": [
    "# Data"
   ]
  },
  {
   "cell_type": "code",
   "execution_count": 66,
   "metadata": {
    "collapsed": true
   },
   "outputs": [],
   "source": [
    "df = pd.read_csv('afschriften.csv')"
   ]
  },
  {
   "cell_type": "code",
   "execution_count": 67,
   "metadata": {
    "collapsed": false
   },
   "outputs": [],
   "source": [
    "cats = pd.read_csv('categories.csv')"
   ]
  },
  {
   "cell_type": "markdown",
   "metadata": {},
   "source": [
    "# Preprocessing\n",
    "###### Column renaming"
   ]
  },
  {
   "cell_type": "code",
   "execution_count": 68,
   "metadata": {
    "collapsed": false
   },
   "outputs": [],
   "source": [
    "renamings = {\n",
    "    'Datum': 'date',\n",
    "    'Naam / Omschrijving': 'name',\n",
    "    'Rekening': 'account_from',\n",
    "    'Tegenrekening': 'account_to',\n",
    "    'Code': 'code',\n",
    "    'Af Bij': 'sign',\n",
    "    'Bedrag (EUR)': 'amount',\n",
    "    'MutatieSoort': 'device',\n",
    "    'Mededelingen': 'note',\n",
    "}\n",
    "df = df.rename(columns=renamings)"
   ]
  },
  {
   "cell_type": "markdown",
   "metadata": {},
   "source": [
    "###### Date parsing"
   ]
  },
  {
   "cell_type": "code",
   "execution_count": 69,
   "metadata": {
    "collapsed": false
   },
   "outputs": [],
   "source": [
    "# Parse the date column to datetimes and set as index.\n",
    "df.date = pd.to_datetime(df.date, format='%Y%m%d')"
   ]
  },
  {
   "cell_type": "code",
   "execution_count": 70,
   "metadata": {
    "collapsed": false
   },
   "outputs": [],
   "source": [
    "df['week'] = df.date.apply(lambda x:x.week)"
   ]
  },
  {
   "cell_type": "code",
   "execution_count": 71,
   "metadata": {
    "collapsed": false
   },
   "outputs": [],
   "source": [
    "# df['month'] = df.date.apply(lambda x:str(x.strftime(\"%B\")))\n",
    "df['month'] = df.date.apply(lambda x:x.month)"
   ]
  },
  {
   "cell_type": "code",
   "execution_count": 72,
   "metadata": {
    "collapsed": false
   },
   "outputs": [],
   "source": [
    "df['year'] = df.date.apply(lambda x:x.year)"
   ]
  },
  {
   "cell_type": "markdown",
   "metadata": {},
   "source": [
    "###### Account to parsing"
   ]
  },
  {
   "cell_type": "code",
   "execution_count": 73,
   "metadata": {
    "collapsed": false
   },
   "outputs": [],
   "source": [
    "df.account_to = df.account_to.replace(np.nan, '-')"
   ]
  },
  {
   "cell_type": "markdown",
   "metadata": {},
   "source": [
    "###### Sign and amount parsing"
   ]
  },
  {
   "cell_type": "code",
   "execution_count": 74,
   "metadata": {
    "collapsed": false
   },
   "outputs": [],
   "source": [
    "# Transform the sign column to symbols.\n",
    "df.sign = df.sign.apply(lambda sign: '+' if sign == 'Bij' else '-')"
   ]
  },
  {
   "cell_type": "code",
   "execution_count": 75,
   "metadata": {
    "collapsed": true
   },
   "outputs": [],
   "source": [
    "# Transform amount column from str to float.\n",
    "df.amount = df.amount.replace({',': '.'}, regex=True).astype(np.float64)"
   ]
  },
  {
   "cell_type": "code",
   "execution_count": 76,
   "metadata": {
    "collapsed": false
   },
   "outputs": [],
   "source": [
    "# Transform amount column from float to int, without losing the cents.\n",
    "df.amount = df.amount.apply(lambda x: x * 100).astype(int)"
   ]
  },
  {
   "cell_type": "code",
   "execution_count": 77,
   "metadata": {
    "collapsed": false
   },
   "outputs": [],
   "source": [
    "# Apply the symbol in the sign column to the amounts.\n",
    "f = lambda x: x.amount if x.sign == '+' else -x.amount\n",
    "df.amount = df[['sign', 'amount']].apply(f, axis=1, broadcast=True)\n",
    "df.amount = df.amount.astype(int)"
   ]
  },
  {
   "cell_type": "code",
   "execution_count": 78,
   "metadata": {
    "collapsed": false
   },
   "outputs": [],
   "source": [
    "df['balance'] = df.amount.cumsum()"
   ]
  },
  {
   "cell_type": "markdown",
   "metadata": {},
   "source": [
    "###### Finished"
   ]
  },
  {
   "cell_type": "code",
   "execution_count": 79,
   "metadata": {
    "collapsed": false
   },
   "outputs": [
    {
     "data": {
      "text/html": [
       "<div>\n",
       "<table border=\"1\" class=\"dataframe\">\n",
       "  <thead>\n",
       "    <tr style=\"text-align: right;\">\n",
       "      <th></th>\n",
       "      <th>date</th>\n",
       "      <th>name</th>\n",
       "      <th>account_from</th>\n",
       "      <th>account_to</th>\n",
       "      <th>code</th>\n",
       "      <th>sign</th>\n",
       "      <th>amount</th>\n",
       "      <th>device</th>\n",
       "      <th>note</th>\n",
       "      <th>week</th>\n",
       "      <th>month</th>\n",
       "      <th>year</th>\n",
       "      <th>balance</th>\n",
       "    </tr>\n",
       "  </thead>\n",
       "  <tbody>\n",
       "    <tr>\n",
       "      <th>0</th>\n",
       "      <td>2017-04-04</td>\n",
       "      <td>ALBERT HEIJN  1649 LEIDEN NLD</td>\n",
       "      <td>NL68INGB0008657598</td>\n",
       "      <td>-</td>\n",
       "      <td>BA</td>\n",
       "      <td>-</td>\n",
       "      <td>-1011</td>\n",
       "      <td>Betaalautomaat</td>\n",
       "      <td>Pasvolgnr:005 03-04-2017 21:43 Transactie:62V5...</td>\n",
       "      <td>14</td>\n",
       "      <td>4</td>\n",
       "      <td>2017</td>\n",
       "      <td>-1011</td>\n",
       "    </tr>\n",
       "    <tr>\n",
       "      <th>1</th>\n",
       "      <td>2017-04-04</td>\n",
       "      <td>359 Lidl Leiden LEIDEN NLD</td>\n",
       "      <td>NL68INGB0008657598</td>\n",
       "      <td>-</td>\n",
       "      <td>BA</td>\n",
       "      <td>-</td>\n",
       "      <td>-149</td>\n",
       "      <td>Betaalautomaat</td>\n",
       "      <td>Pasvolgnr:005 03-04-2017 15:04 Transactie:49C2...</td>\n",
       "      <td>14</td>\n",
       "      <td>4</td>\n",
       "      <td>2017</td>\n",
       "      <td>-1160</td>\n",
       "    </tr>\n",
       "    <tr>\n",
       "      <th>2</th>\n",
       "      <td>2017-04-03</td>\n",
       "      <td>Hr MHS de Buck</td>\n",
       "      <td>NL68INGB0008657598</td>\n",
       "      <td>NL92INGB0004737590</td>\n",
       "      <td>GT</td>\n",
       "      <td>+</td>\n",
       "      <td>2086</td>\n",
       "      <td>Internetbankieren</td>\n",
       "      <td>Naam: Hr MHS de Buck Omschrijving: Wiebetaaltw...</td>\n",
       "      <td>14</td>\n",
       "      <td>4</td>\n",
       "      <td>2017</td>\n",
       "      <td>926</td>\n",
       "    </tr>\n",
       "    <tr>\n",
       "      <th>3</th>\n",
       "      <td>2017-04-03</td>\n",
       "      <td>Albert Heijn 1649 LEIDEN NLD</td>\n",
       "      <td>NL68INGB0008657598</td>\n",
       "      <td>-</td>\n",
       "      <td>BA</td>\n",
       "      <td>-</td>\n",
       "      <td>-195</td>\n",
       "      <td>Betaalautomaat</td>\n",
       "      <td>Pasvolgnr:005 03-04-2017 08:46 Transactie:33S3...</td>\n",
       "      <td>14</td>\n",
       "      <td>4</td>\n",
       "      <td>2017</td>\n",
       "      <td>731</td>\n",
       "    </tr>\n",
       "    <tr>\n",
       "      <th>4</th>\n",
       "      <td>2017-04-03</td>\n",
       "      <td>118606 SON NLD</td>\n",
       "      <td>NL68INGB0008657598</td>\n",
       "      <td>-</td>\n",
       "      <td>BA</td>\n",
       "      <td>-</td>\n",
       "      <td>-180</td>\n",
       "      <td>Betaalautomaat</td>\n",
       "      <td>Pasvolgnr:005 03-04-2017 10:49 Transactie:36E7...</td>\n",
       "      <td>14</td>\n",
       "      <td>4</td>\n",
       "      <td>2017</td>\n",
       "      <td>551</td>\n",
       "    </tr>\n",
       "  </tbody>\n",
       "</table>\n",
       "</div>"
      ],
      "text/plain": [
       "        date                           name        account_from  \\\n",
       "0 2017-04-04  ALBERT HEIJN  1649 LEIDEN NLD  NL68INGB0008657598   \n",
       "1 2017-04-04     359 Lidl Leiden LEIDEN NLD  NL68INGB0008657598   \n",
       "2 2017-04-03                 Hr MHS de Buck  NL68INGB0008657598   \n",
       "3 2017-04-03   Albert Heijn 1649 LEIDEN NLD  NL68INGB0008657598   \n",
       "4 2017-04-03                 118606 SON NLD  NL68INGB0008657598   \n",
       "\n",
       "           account_to code sign  amount             device  \\\n",
       "0                   -   BA    -   -1011     Betaalautomaat   \n",
       "1                   -   BA    -    -149     Betaalautomaat   \n",
       "2  NL92INGB0004737590   GT    +    2086  Internetbankieren   \n",
       "3                   -   BA    -    -195     Betaalautomaat   \n",
       "4                   -   BA    -    -180     Betaalautomaat   \n",
       "\n",
       "                                                note  week  month  year  \\\n",
       "0  Pasvolgnr:005 03-04-2017 21:43 Transactie:62V5...    14      4  2017   \n",
       "1  Pasvolgnr:005 03-04-2017 15:04 Transactie:49C2...    14      4  2017   \n",
       "2  Naam: Hr MHS de Buck Omschrijving: Wiebetaaltw...    14      4  2017   \n",
       "3  Pasvolgnr:005 03-04-2017 08:46 Transactie:33S3...    14      4  2017   \n",
       "4  Pasvolgnr:005 03-04-2017 10:49 Transactie:36E7...    14      4  2017   \n",
       "\n",
       "   balance  \n",
       "0    -1011  \n",
       "1    -1160  \n",
       "2      926  \n",
       "3      731  \n",
       "4      551  "
      ]
     },
     "metadata": {},
     "output_type": "display_data"
    }
   ],
   "source": [
    "display(df.head())"
   ]
  },
  {
   "cell_type": "markdown",
   "metadata": {},
   "source": [
    "# Categorisation\n",
    "## Categories"
   ]
  },
  {
   "cell_type": "code",
   "execution_count": 80,
   "metadata": {
    "collapsed": false
   },
   "outputs": [],
   "source": [
    "def create_category_overview(df, cats):\n",
    "    df = df.loc[:, ('account_to', 'amount')]\n",
    "    df = pd.merge(cats, df, on='account_to').drop('account_to', axis=1)\n",
    "    df = df.groupby('category').sum()\n",
    "    return df\n",
    "\n",
    "def print_category_overview(overview):\n",
    "    overview = overview.sort_values(by='amount')\n",
    "    overview.amount = overview.amount.apply(amount_to_str)\n",
    "    display(overview)"
   ]
  },
  {
   "cell_type": "markdown",
   "metadata": {},
   "source": [
    "## Uncategorised"
   ]
  },
  {
   "cell_type": "code",
   "execution_count": 81,
   "metadata": {
    "collapsed": true
   },
   "outputs": [],
   "source": [
    "def print_uncategorised(df):\n",
    "    idxs = ~df.account_to.isin(cats.account_to), ('name', 'account_to', 'amount')\n",
    "    display(df.loc[idxs])"
   ]
  },
  {
   "cell_type": "markdown",
   "metadata": {},
   "source": [
    "# Overview: income & expense"
   ]
  },
  {
   "cell_type": "code",
   "execution_count": 82,
   "metadata": {
    "collapsed": false
   },
   "outputs": [],
   "source": [
    "def describe(s):\n",
    "    \"\"\"Creates a custom description of a series.\n",
    "    \"\"\"\n",
    "    return {\n",
    "        'total': s.sum(),\n",
    "        'positive': s.loc[s >= 0].sum(),\n",
    "        'negative': s.loc[s < 0].sum(),\n",
    "        'min': s.min(),\n",
    "        'max': s.max(),\n",
    "        'avg': s.mean(),\n",
    "        'median': s.median(),\n",
    "#         'mode': s.mode(),\n",
    "        'count': s.count(),\n",
    "    }\n",
    "\n",
    "# TODO: fix formatting with plus/minus signs.\n",
    "def print_description(d, name):\n",
    "    \"\"\"Prints a description. \n",
    "    \n",
    "    Naming is based on the assumption that\n",
    "    the description describes a revenue stream.\n",
    "    \"\"\"\n",
    "    # All amounts to str representation.\n",
    "    d = {k: v if k == 'count' else amount_to_str(v) for k, v in d.items()}\n",
    "    \n",
    "    print('--- {} ---'.format(name))\n",
    "    print('expense {}'.format(d['negative']))\n",
    "    print('revenue  {}'.format(d['positive']))\n",
    "    print('income  {}'.format(d['total']))\n",
    "    print()\n",
    "    print('count    {}'.format(d['count']))\n",
    "    print('min     {}'.format(d['min']))\n",
    "    print('max      {}'.format(d['max']))\n",
    "    print('avg     {}'.format(d['avg']))\n",
    "    print('median  {}'.format(d['median']))\n",
    "#     print('mode    {:.0f}'.format(d['mode']))"
   ]
  },
  {
   "cell_type": "code",
   "execution_count": 83,
   "metadata": {
    "collapsed": false
   },
   "outputs": [],
   "source": [
    "def summed_mutation_overview(period):\n",
    "    \"\"\"Sums all mutations per account_to and adds name to each account.\n",
    "    \n",
    "    df: Entire history in a DataFrame.\n",
    "    start: DateTime for start (inclusive) of the period.\n",
    "    end: DateTime for end (inclusive) of the period.\n",
    "    Returns: DataFrame with columns 'account_to, name, amount'. Amounts\n",
    "        are summed by account_to. The first name found for an account_to\n",
    "        in the df is assigned as a value in the respective name column. \n",
    "        The only exception to this is the account_to with value '-', this\n",
    "        gets the name '-'.\n",
    "    \"\"\"\n",
    "    # Combine amounts with respect to the account_to and add a name.\n",
    "    accountto_amount = period[['account_to', 'amount']].groupby('account_to', as_index=False).sum()\n",
    "    accountto_name = period[['account_to', 'name']].groupby('account_to', as_index=False).first()\n",
    "    overview = pd.merge(accountto_name, accountto_amount, how='left', on='account_to')\n",
    "    # Assigning name '-' to account_to == '-'.\n",
    "    overview.loc[overview.account_to == '-', 'name'] = '-'\n",
    "    # Prettify and sort.\n",
    "    overview = overview.sort_values(by=['amount'])\n",
    "    overview.amount = overview.amount.apply(amount_to_str)\n",
    "    return overview"
   ]
  },
  {
   "cell_type": "markdown",
   "metadata": {},
   "source": [
    "## Current month"
   ]
  },
  {
   "cell_type": "code",
   "execution_count": 84,
   "metadata": {
    "collapsed": true
   },
   "outputs": [],
   "source": [
    "def current_month_start():\n",
    "    start = dt.date.today()\n",
    "    if start.day > 25:\n",
    "        start += dt.timedelta(7)\n",
    "    return start.replace(day=1)"
   ]
  },
  {
   "cell_type": "code",
   "execution_count": 85,
   "metadata": {
    "collapsed": false
   },
   "outputs": [],
   "source": [
    "period = get_period(df, current_month_start())"
   ]
  },
  {
   "cell_type": "markdown",
   "metadata": {},
   "source": [
    "### Description"
   ]
  },
  {
   "cell_type": "code",
   "execution_count": 86,
   "metadata": {
    "collapsed": false
   },
   "outputs": [
    {
     "name": "stdout",
     "output_type": "stream",
     "text": [
      "--- CURRENT MONTH ---\n",
      "expense -478.68\n",
      "revenue  332.86\n",
      "income  -145.82\n",
      "\n",
      "count    18\n",
      "min     -328.18\n",
      "max      275.00\n",
      "avg     -8.10\n",
      "median  -2.48\n"
     ]
    }
   ],
   "source": [
    "print_description(describe(period.amount), \"CURRENT MONTH\")"
   ]
  },
  {
   "cell_type": "markdown",
   "metadata": {},
   "source": [
    "### Account mutations"
   ]
  },
  {
   "cell_type": "code",
   "execution_count": 87,
   "metadata": {
    "collapsed": false
   },
   "outputs": [
    {
     "data": {
      "text/html": [
       "<div>\n",
       "<table border=\"1\" class=\"dataframe\">\n",
       "  <thead>\n",
       "    <tr style=\"text-align: right;\">\n",
       "      <th></th>\n",
       "      <th>account_to</th>\n",
       "      <th>name</th>\n",
       "      <th>amount</th>\n",
       "    </tr>\n",
       "  </thead>\n",
       "  <tbody>\n",
       "    <tr>\n",
       "      <th>4</th>\n",
       "      <td>NL87RABO0313431000</td>\n",
       "      <td>STICHTING DUWO</td>\n",
       "      <td>-328.18</td>\n",
       "    </tr>\n",
       "    <tr>\n",
       "      <th>1</th>\n",
       "      <td>NL04INGB0749085940</td>\n",
       "      <td>Manouk</td>\n",
       "      <td>-63.00</td>\n",
       "    </tr>\n",
       "    <tr>\n",
       "      <th>0</th>\n",
       "      <td>-</td>\n",
       "      <td>-</td>\n",
       "      <td>-54.50</td>\n",
       "    </tr>\n",
       "    <tr>\n",
       "      <th>2</th>\n",
       "      <td>NL36ABNA0977746623</td>\n",
       "      <td>thierry van den oord</td>\n",
       "      <td>-8.00</td>\n",
       "    </tr>\n",
       "    <tr>\n",
       "      <th>5</th>\n",
       "      <td>NL92INGB0004737590</td>\n",
       "      <td>Hr MHS de Buck</td>\n",
       "      <td>20.86</td>\n",
       "    </tr>\n",
       "    <tr>\n",
       "      <th>3</th>\n",
       "      <td>NL61INGB0003926452</td>\n",
       "      <td>G A M van Rooijen e/o C C M van Rooijen-de Gier</td>\n",
       "      <td>287.00</td>\n",
       "    </tr>\n",
       "  </tbody>\n",
       "</table>\n",
       "</div>"
      ],
      "text/plain": [
       "           account_to                                             name  \\\n",
       "4  NL87RABO0313431000                                   STICHTING DUWO   \n",
       "1  NL04INGB0749085940                                           Manouk   \n",
       "0                   -                                                -   \n",
       "2  NL36ABNA0977746623                             thierry van den oord   \n",
       "5  NL92INGB0004737590                                   Hr MHS de Buck   \n",
       "3  NL61INGB0003926452  G A M van Rooijen e/o C C M van Rooijen-de Gier   \n",
       "\n",
       "    amount  \n",
       "4  -328.18  \n",
       "1   -63.00  \n",
       "0   -54.50  \n",
       "2    -8.00  \n",
       "5    20.86  \n",
       "3   287.00  "
      ]
     },
     "execution_count": 87,
     "metadata": {},
     "output_type": "execute_result"
    }
   ],
   "source": [
    "summed_mutation_overview(period)"
   ]
  },
  {
   "cell_type": "markdown",
   "metadata": {},
   "source": [
    "### Category mutations"
   ]
  },
  {
   "cell_type": "code",
   "execution_count": 88,
   "metadata": {
    "collapsed": false
   },
   "outputs": [
    {
     "data": {
      "text/html": [
       "<div>\n",
       "<table border=\"1\" class=\"dataframe\">\n",
       "  <thead>\n",
       "    <tr style=\"text-align: right;\">\n",
       "      <th></th>\n",
       "      <th>amount</th>\n",
       "    </tr>\n",
       "    <tr>\n",
       "      <th>category</th>\n",
       "      <th></th>\n",
       "    </tr>\n",
       "  </thead>\n",
       "  <tbody>\n",
       "    <tr>\n",
       "      <th>rent</th>\n",
       "      <td>-328.18</td>\n",
       "    </tr>\n",
       "    <tr>\n",
       "      <th>other</th>\n",
       "      <td>-54.50</td>\n",
       "    </tr>\n",
       "    <tr>\n",
       "      <th>family and friends</th>\n",
       "      <td>236.86</td>\n",
       "    </tr>\n",
       "  </tbody>\n",
       "</table>\n",
       "</div>"
      ],
      "text/plain": [
       "                     amount\n",
       "category                   \n",
       "rent                -328.18\n",
       "other                -54.50\n",
       "family and friends   236.86"
      ]
     },
     "metadata": {},
     "output_type": "display_data"
    }
   ],
   "source": [
    "print_category_overview(create_category_overview(period, cats))"
   ]
  },
  {
   "cell_type": "markdown",
   "metadata": {},
   "source": [
    "#### Uncategorised"
   ]
  },
  {
   "cell_type": "code",
   "execution_count": 89,
   "metadata": {
    "collapsed": false
   },
   "outputs": [
    {
     "data": {
      "text/html": [
       "<div>\n",
       "<table border=\"1\" class=\"dataframe\">\n",
       "  <thead>\n",
       "    <tr style=\"text-align: right;\">\n",
       "      <th></th>\n",
       "      <th>name</th>\n",
       "      <th>account_to</th>\n",
       "      <th>amount</th>\n",
       "    </tr>\n",
       "  </thead>\n",
       "  <tbody>\n",
       "  </tbody>\n",
       "</table>\n",
       "</div>"
      ],
      "text/plain": [
       "Empty DataFrame\n",
       "Columns: [name, account_to, amount]\n",
       "Index: []"
      ]
     },
     "metadata": {},
     "output_type": "display_data"
    }
   ],
   "source": [
    "print_uncategorised(period)"
   ]
  },
  {
   "cell_type": "markdown",
   "metadata": {},
   "source": [
    "## Last 4 weeks"
   ]
  },
  {
   "cell_type": "markdown",
   "metadata": {},
   "source": [
    "## All"
   ]
  },
  {
   "cell_type": "markdown",
   "metadata": {},
   "source": [
    "### Description"
   ]
  },
  {
   "cell_type": "code",
   "execution_count": 90,
   "metadata": {
    "collapsed": false
   },
   "outputs": [
    {
     "name": "stdout",
     "output_type": "stream",
     "text": [
      "--- TOTAL ---\n",
      "expense -158,737.27\n",
      "revenue  157,897.35\n",
      "income  -839.92\n",
      "\n",
      "count    4644\n",
      "min     -10,438.87\n",
      "max      10,438.87\n",
      "avg     -0.18\n",
      "median  -4.34\n"
     ]
    }
   ],
   "source": [
    "print_description(describe(df.amount), \"TOTAL\")"
   ]
  },
  {
   "cell_type": "markdown",
   "metadata": {},
   "source": [
    "### Account mutations"
   ]
  },
  {
   "cell_type": "code",
   "execution_count": 91,
   "metadata": {
    "collapsed": false
   },
   "outputs": [
    {
     "data": {
      "text/html": [
       "<div>\n",
       "<table border=\"1\" class=\"dataframe\">\n",
       "  <thead>\n",
       "    <tr style=\"text-align: right;\">\n",
       "      <th></th>\n",
       "      <th>account_to</th>\n",
       "      <th>name</th>\n",
       "      <th>amount</th>\n",
       "    </tr>\n",
       "  </thead>\n",
       "  <tbody>\n",
       "    <tr>\n",
       "      <th>0</th>\n",
       "      <td>-</td>\n",
       "      <td>-</td>\n",
       "      <td>-39,257.51</td>\n",
       "    </tr>\n",
       "    <tr>\n",
       "      <th>285</th>\n",
       "      <td>NL87RABO0313431000</td>\n",
       "      <td>STICHTING DUWO</td>\n",
       "      <td>-12,218.40</td>\n",
       "    </tr>\n",
       "    <tr>\n",
       "      <th>265</th>\n",
       "      <td>NL71RABO0103257217</td>\n",
       "      <td>UNIV LEIDEN COLLEGEGELDE</td>\n",
       "      <td>-5,841.00</td>\n",
       "    </tr>\n",
       "    <tr>\n",
       "      <th>41</th>\n",
       "      <td>238656853</td>\n",
       "      <td>KN: 6551312003671</td>\n",
       "      <td>-4,643.00</td>\n",
       "    </tr>\n",
       "    <tr>\n",
       "      <th>83</th>\n",
       "      <td>3926452</td>\n",
       "      <td>G EN C VAN ROOIJEN-DE GIER</td>\n",
       "      <td>-4,215.10</td>\n",
       "    </tr>\n",
       "    <tr>\n",
       "      <th>3</th>\n",
       "      <td>103257217</td>\n",
       "      <td>KN: 130000219907</td>\n",
       "      <td>-3,606.00</td>\n",
       "    </tr>\n",
       "    <tr>\n",
       "      <th>283</th>\n",
       "      <td>NL87INGB0676416217</td>\n",
       "      <td>Anderzorg</td>\n",
       "      <td>-3,241.92</td>\n",
       "    </tr>\n",
       "    <tr>\n",
       "      <th>254</th>\n",
       "      <td>NL63INGB0666647585</td>\n",
       "      <td>Hr JR Bril, Mw RJ Bril-Lennips</td>\n",
       "      <td>-2,100.00</td>\n",
       "    </tr>\n",
       "    <tr>\n",
       "      <th>86</th>\n",
       "      <td>397026080</td>\n",
       "      <td>KN: 930104708130</td>\n",
       "      <td>-1,737.00</td>\n",
       "    </tr>\n",
       "    <tr>\n",
       "      <th>55</th>\n",
       "      <td>285033018</td>\n",
       "      <td>KN:     428037000446</td>\n",
       "      <td>-1,734.12</td>\n",
       "    </tr>\n",
       "    <tr>\n",
       "      <th>169</th>\n",
       "      <td>8657598</td>\n",
       "      <td>VAN Bonusrenterekening</td>\n",
       "      <td>-1,528.55</td>\n",
       "    </tr>\n",
       "    <tr>\n",
       "      <th>67</th>\n",
       "      <td>344603</td>\n",
       "      <td>G A M VAN ROOYEN-DE GIER</td>\n",
       "      <td>-904.16</td>\n",
       "    </tr>\n",
       "    <tr>\n",
       "      <th>62</th>\n",
       "      <td>3050</td>\n",
       "      <td>KN: 550004106075</td>\n",
       "      <td>-828.80</td>\n",
       "    </tr>\n",
       "    <tr>\n",
       "      <th>58</th>\n",
       "      <td>29225</td>\n",
       "      <td>KN: 172241637000026</td>\n",
       "      <td>-814.24</td>\n",
       "    </tr>\n",
       "    <tr>\n",
       "      <th>207</th>\n",
       "      <td>NL28RABO0306926660</td>\n",
       "      <td>LIJBRANDT TELECOM B.V.</td>\n",
       "      <td>-802.82</td>\n",
       "    </tr>\n",
       "    <tr>\n",
       "      <th>196</th>\n",
       "      <td>NL19DEUT0319821366</td>\n",
       "      <td>Stichting Derdengelden Buckaroo</td>\n",
       "      <td>-716.11</td>\n",
       "    </tr>\n",
       "    <tr>\n",
       "      <th>211</th>\n",
       "      <td>NL33RABO0116748370</td>\n",
       "      <td>TIX.nl BV</td>\n",
       "      <td>-687.08</td>\n",
       "    </tr>\n",
       "    <tr>\n",
       "      <th>221</th>\n",
       "      <td>NL37INGB0005595090</td>\n",
       "      <td>Hr G T vd Boom en/of Mw E S vd Boom-Dekker</td>\n",
       "      <td>-600.00</td>\n",
       "    </tr>\n",
       "    <tr>\n",
       "      <th>8</th>\n",
       "      <td>116537353</td>\n",
       "      <td>BUCKAROO ST.DERDENGELDEN</td>\n",
       "      <td>-585.00</td>\n",
       "    </tr>\n",
       "    <tr>\n",
       "      <th>23</th>\n",
       "      <td>136479138</td>\n",
       "      <td>S snoek borg a 100, huur maart</td>\n",
       "      <td>-572.15</td>\n",
       "    </tr>\n",
       "    <tr>\n",
       "      <th>142</th>\n",
       "      <td>653657013</td>\n",
       "      <td>J E Slijp-Lestraden en J Slijp</td>\n",
       "      <td>-557.67</td>\n",
       "    </tr>\n",
       "    <tr>\n",
       "      <th>6</th>\n",
       "      <td>106363875</td>\n",
       "      <td>KN: 0010032103068563</td>\n",
       "      <td>-470.38</td>\n",
       "    </tr>\n",
       "    <tr>\n",
       "      <th>167</th>\n",
       "      <td>827138989</td>\n",
       "      <td>A V ROOIJEN</td>\n",
       "      <td>-460.89</td>\n",
       "    </tr>\n",
       "    <tr>\n",
       "      <th>273</th>\n",
       "      <td>NL79ABNA0418760748</td>\n",
       "      <td>TICKETSCRIPT by Adyen</td>\n",
       "      <td>-411.35</td>\n",
       "    </tr>\n",
       "    <tr>\n",
       "      <th>197</th>\n",
       "      <td>NL21INGB0674773837</td>\n",
       "      <td>ING Bank</td>\n",
       "      <td>-388.28</td>\n",
       "    </tr>\n",
       "    <tr>\n",
       "      <th>294</th>\n",
       "      <td>NL90INGB0006080785</td>\n",
       "      <td>MultiSafepay</td>\n",
       "      <td>-371.28</td>\n",
       "    </tr>\n",
       "    <tr>\n",
       "      <th>185</th>\n",
       "      <td>NL07RABO0120299038</td>\n",
       "      <td>J. Hesseling</td>\n",
       "      <td>-352.03</td>\n",
       "    </tr>\n",
       "    <tr>\n",
       "      <th>166</th>\n",
       "      <td>824836</td>\n",
       "      <td>STUDENTENVER CERES WAGENINGEN Beer</td>\n",
       "      <td>-351.77</td>\n",
       "    </tr>\n",
       "    <tr>\n",
       "      <th>20</th>\n",
       "      <td>132035944</td>\n",
       "      <td>ST.STUDIEBEGELEIDING LDN</td>\n",
       "      <td>-315.00</td>\n",
       "    </tr>\n",
       "    <tr>\n",
       "      <th>10</th>\n",
       "      <td>120299038</td>\n",
       "      <td>J. Hesseling Betaling voor</td>\n",
       "      <td>-312.90</td>\n",
       "    </tr>\n",
       "    <tr>\n",
       "      <th>...</th>\n",
       "      <td>...</td>\n",
       "      <td>...</td>\n",
       "      <td>...</td>\n",
       "    </tr>\n",
       "    <tr>\n",
       "      <th>302</th>\n",
       "      <td>NL96INGB0008695021</td>\n",
       "      <td>Hr B Rijnders</td>\n",
       "      <td>94.12</td>\n",
       "    </tr>\n",
       "    <tr>\n",
       "      <th>263</th>\n",
       "      <td>NL67RABO0170228029</td>\n",
       "      <td>T.W. JIRAN</td>\n",
       "      <td>98.69</td>\n",
       "    </tr>\n",
       "    <tr>\n",
       "      <th>299</th>\n",
       "      <td>NL94INGB0006184503</td>\n",
       "      <td>Hr W van Tongeren</td>\n",
       "      <td>130.44</td>\n",
       "    </tr>\n",
       "    <tr>\n",
       "      <th>192</th>\n",
       "      <td>NL17RABO0304298352</td>\n",
       "      <td>N. OKKINGA EO</td>\n",
       "      <td>135.80</td>\n",
       "    </tr>\n",
       "    <tr>\n",
       "      <th>231</th>\n",
       "      <td>NL45INGB0008676248</td>\n",
       "      <td>HR T A van Stralen</td>\n",
       "      <td>138.75</td>\n",
       "    </tr>\n",
       "    <tr>\n",
       "      <th>262</th>\n",
       "      <td>NL67INGB0000985983</td>\n",
       "      <td>Mw A Snatersen</td>\n",
       "      <td>143.75</td>\n",
       "    </tr>\n",
       "    <tr>\n",
       "      <th>286</th>\n",
       "      <td>NL87TRIO0390455482</td>\n",
       "      <td>A. van Stralen</td>\n",
       "      <td>143.75</td>\n",
       "    </tr>\n",
       "    <tr>\n",
       "      <th>235</th>\n",
       "      <td>NL48RABO0346414903</td>\n",
       "      <td>N. OKKINGA</td>\n",
       "      <td>167.37</td>\n",
       "    </tr>\n",
       "    <tr>\n",
       "      <th>258</th>\n",
       "      <td>NL65INGB0001355880</td>\n",
       "      <td>Bart Heijke</td>\n",
       "      <td>188.55</td>\n",
       "    </tr>\n",
       "    <tr>\n",
       "      <th>229</th>\n",
       "      <td>NL44INGB0004843893</td>\n",
       "      <td>Jeroen van Rooijen</td>\n",
       "      <td>267.65</td>\n",
       "    </tr>\n",
       "    <tr>\n",
       "      <th>53</th>\n",
       "      <td>27677</td>\n",
       "      <td>H A M van Rooijen-van Marrewijk</td>\n",
       "      <td>350.00</td>\n",
       "    </tr>\n",
       "    <tr>\n",
       "      <th>117</th>\n",
       "      <td>521072298</td>\n",
       "      <td>KN: ONK. MOVE-STUDIE</td>\n",
       "      <td>390.00</td>\n",
       "    </tr>\n",
       "    <tr>\n",
       "      <th>32</th>\n",
       "      <td>157366480</td>\n",
       "      <td>CLEANLEASEFORTEX B.V.</td>\n",
       "      <td>497.41</td>\n",
       "    </tr>\n",
       "    <tr>\n",
       "      <th>96</th>\n",
       "      <td>441965806</td>\n",
       "      <td>CLEANLEASEFORTEX BV</td>\n",
       "      <td>534.05</td>\n",
       "    </tr>\n",
       "    <tr>\n",
       "      <th>187</th>\n",
       "      <td>NL11DEUT0451001400</td>\n",
       "      <td>Academisch Ziekenhuis Leiden</td>\n",
       "      <td>550.00</td>\n",
       "    </tr>\n",
       "    <tr>\n",
       "      <th>218</th>\n",
       "      <td>NL36ABNA0893829110</td>\n",
       "      <td>GIVARO BV</td>\n",
       "      <td>1,000.00</td>\n",
       "    </tr>\n",
       "    <tr>\n",
       "      <th>182</th>\n",
       "      <td>NL04INGB0749085940</td>\n",
       "      <td>Manouk</td>\n",
       "      <td>1,421.59</td>\n",
       "    </tr>\n",
       "    <tr>\n",
       "      <th>270</th>\n",
       "      <td>NL76ABNA0470190590</td>\n",
       "      <td>JOBMOTION BV</td>\n",
       "      <td>2,028.56</td>\n",
       "    </tr>\n",
       "    <tr>\n",
       "      <th>13</th>\n",
       "      <td>121874265</td>\n",
       "      <td>HOOGVLIET B.V.</td>\n",
       "      <td>2,232.18</td>\n",
       "    </tr>\n",
       "    <tr>\n",
       "      <th>50</th>\n",
       "      <td>2445588</td>\n",
       "      <td>MAAND MRT. NR. 211382188T300013</td>\n",
       "      <td>2,451.00</td>\n",
       "    </tr>\n",
       "    <tr>\n",
       "      <th>109</th>\n",
       "      <td>486029875</td>\n",
       "      <td>ALBERT HEIJN BV</td>\n",
       "      <td>2,862.48</td>\n",
       "    </tr>\n",
       "    <tr>\n",
       "      <th>199</th>\n",
       "      <td>NL23ABNA0430661231</td>\n",
       "      <td>TOPDESK NEDERLAND BV</td>\n",
       "      <td>4,102.12</td>\n",
       "    </tr>\n",
       "    <tr>\n",
       "      <th>282</th>\n",
       "      <td>NL86INGB0002445588</td>\n",
       "      <td>BELASTINGDIENST</td>\n",
       "      <td>4,313.00</td>\n",
       "    </tr>\n",
       "    <tr>\n",
       "      <th>130</th>\n",
       "      <td>576867055</td>\n",
       "      <td>KN: 25-9279002-10</td>\n",
       "      <td>4,583.45</td>\n",
       "    </tr>\n",
       "    <tr>\n",
       "      <th>183</th>\n",
       "      <td>NL07DNIB0827138989</td>\n",
       "      <td>Dhr. A L van Rooijen</td>\n",
       "      <td>4,624.18</td>\n",
       "    </tr>\n",
       "    <tr>\n",
       "      <th>54</th>\n",
       "      <td>283237872</td>\n",
       "      <td>KN: 2000087603004100</td>\n",
       "      <td>10,438.87</td>\n",
       "    </tr>\n",
       "    <tr>\n",
       "      <th>252</th>\n",
       "      <td>NL61INGB0003926452</td>\n",
       "      <td>G A M van Rooijen e/o C C M van Rooijen-de Gier</td>\n",
       "      <td>10,823.91</td>\n",
       "    </tr>\n",
       "    <tr>\n",
       "      <th>232</th>\n",
       "      <td>NL45INGB0705001903</td>\n",
       "      <td>DUO Hoofdrekening</td>\n",
       "      <td>11,289.63</td>\n",
       "    </tr>\n",
       "    <tr>\n",
       "      <th>128</th>\n",
       "      <td>569999995</td>\n",
       "      <td>KN: 007845799131071</td>\n",
       "      <td>13,972.34</td>\n",
       "    </tr>\n",
       "    <tr>\n",
       "      <th>255</th>\n",
       "      <td>NL63RBOS0569999995</td>\n",
       "      <td>DUO</td>\n",
       "      <td>17,282.20</td>\n",
       "    </tr>\n",
       "  </tbody>\n",
       "</table>\n",
       "<p>305 rows × 3 columns</p>\n",
       "</div>"
      ],
      "text/plain": [
       "             account_to                                             name  \\\n",
       "0                     -                                                -   \n",
       "285  NL87RABO0313431000                                   STICHTING DUWO   \n",
       "265  NL71RABO0103257217                         UNIV LEIDEN COLLEGEGELDE   \n",
       "41            238656853                                KN: 6551312003671   \n",
       "83              3926452                       G EN C VAN ROOIJEN-DE GIER   \n",
       "3             103257217                                 KN: 130000219907   \n",
       "283  NL87INGB0676416217                                        Anderzorg   \n",
       "254  NL63INGB0666647585                   Hr JR Bril, Mw RJ Bril-Lennips   \n",
       "86            397026080                                 KN: 930104708130   \n",
       "55            285033018                             KN:     428037000446   \n",
       "169             8657598                           VAN Bonusrenterekening   \n",
       "67               344603                         G A M VAN ROOYEN-DE GIER   \n",
       "62                 3050                                 KN: 550004106075   \n",
       "58                29225                              KN: 172241637000026   \n",
       "207  NL28RABO0306926660                           LIJBRANDT TELECOM B.V.   \n",
       "196  NL19DEUT0319821366                  Stichting Derdengelden Buckaroo   \n",
       "211  NL33RABO0116748370                                        TIX.nl BV   \n",
       "221  NL37INGB0005595090       Hr G T vd Boom en/of Mw E S vd Boom-Dekker   \n",
       "8             116537353                         BUCKAROO ST.DERDENGELDEN   \n",
       "23            136479138                   S snoek borg a 100, huur maart   \n",
       "142           653657013                   J E Slijp-Lestraden en J Slijp   \n",
       "6             106363875                             KN: 0010032103068563   \n",
       "167           827138989                                      A V ROOIJEN   \n",
       "273  NL79ABNA0418760748                            TICKETSCRIPT by Adyen   \n",
       "197  NL21INGB0674773837                                         ING Bank   \n",
       "294  NL90INGB0006080785                                     MultiSafepay   \n",
       "185  NL07RABO0120299038                                     J. Hesseling   \n",
       "166              824836               STUDENTENVER CERES WAGENINGEN Beer   \n",
       "20            132035944                         ST.STUDIEBEGELEIDING LDN   \n",
       "10            120299038                       J. Hesseling Betaling voor   \n",
       "..                  ...                                              ...   \n",
       "302  NL96INGB0008695021                                    Hr B Rijnders   \n",
       "263  NL67RABO0170228029                                       T.W. JIRAN   \n",
       "299  NL94INGB0006184503                                Hr W van Tongeren   \n",
       "192  NL17RABO0304298352                                    N. OKKINGA EO   \n",
       "231  NL45INGB0008676248                               HR T A van Stralen   \n",
       "262  NL67INGB0000985983                                   Mw A Snatersen   \n",
       "286  NL87TRIO0390455482                                   A. van Stralen   \n",
       "235  NL48RABO0346414903                                       N. OKKINGA   \n",
       "258  NL65INGB0001355880                                      Bart Heijke   \n",
       "229  NL44INGB0004843893                               Jeroen van Rooijen   \n",
       "53                27677                  H A M van Rooijen-van Marrewijk   \n",
       "117           521072298                             KN: ONK. MOVE-STUDIE   \n",
       "32            157366480                            CLEANLEASEFORTEX B.V.   \n",
       "96            441965806                              CLEANLEASEFORTEX BV   \n",
       "187  NL11DEUT0451001400                     Academisch Ziekenhuis Leiden   \n",
       "218  NL36ABNA0893829110                                        GIVARO BV   \n",
       "182  NL04INGB0749085940                                           Manouk   \n",
       "270  NL76ABNA0470190590                                     JOBMOTION BV   \n",
       "13            121874265                                   HOOGVLIET B.V.   \n",
       "50              2445588                  MAAND MRT. NR. 211382188T300013   \n",
       "109           486029875                                  ALBERT HEIJN BV   \n",
       "199  NL23ABNA0430661231                             TOPDESK NEDERLAND BV   \n",
       "282  NL86INGB0002445588                                  BELASTINGDIENST   \n",
       "130           576867055                                KN: 25-9279002-10   \n",
       "183  NL07DNIB0827138989                             Dhr. A L van Rooijen   \n",
       "54            283237872                             KN: 2000087603004100   \n",
       "252  NL61INGB0003926452  G A M van Rooijen e/o C C M van Rooijen-de Gier   \n",
       "232  NL45INGB0705001903                                DUO Hoofdrekening   \n",
       "128           569999995                              KN: 007845799131071   \n",
       "255  NL63RBOS0569999995                                              DUO   \n",
       "\n",
       "         amount  \n",
       "0    -39,257.51  \n",
       "285  -12,218.40  \n",
       "265   -5,841.00  \n",
       "41    -4,643.00  \n",
       "83    -4,215.10  \n",
       "3     -3,606.00  \n",
       "283   -3,241.92  \n",
       "254   -2,100.00  \n",
       "86    -1,737.00  \n",
       "55    -1,734.12  \n",
       "169   -1,528.55  \n",
       "67      -904.16  \n",
       "62      -828.80  \n",
       "58      -814.24  \n",
       "207     -802.82  \n",
       "196     -716.11  \n",
       "211     -687.08  \n",
       "221     -600.00  \n",
       "8       -585.00  \n",
       "23      -572.15  \n",
       "142     -557.67  \n",
       "6       -470.38  \n",
       "167     -460.89  \n",
       "273     -411.35  \n",
       "197     -388.28  \n",
       "294     -371.28  \n",
       "185     -352.03  \n",
       "166     -351.77  \n",
       "20      -315.00  \n",
       "10      -312.90  \n",
       "..          ...  \n",
       "302       94.12  \n",
       "263       98.69  \n",
       "299      130.44  \n",
       "192      135.80  \n",
       "231      138.75  \n",
       "262      143.75  \n",
       "286      143.75  \n",
       "235      167.37  \n",
       "258      188.55  \n",
       "229      267.65  \n",
       "53       350.00  \n",
       "117      390.00  \n",
       "32       497.41  \n",
       "96       534.05  \n",
       "187      550.00  \n",
       "218    1,000.00  \n",
       "182    1,421.59  \n",
       "270    2,028.56  \n",
       "13     2,232.18  \n",
       "50     2,451.00  \n",
       "109    2,862.48  \n",
       "199    4,102.12  \n",
       "282    4,313.00  \n",
       "130    4,583.45  \n",
       "183    4,624.18  \n",
       "54    10,438.87  \n",
       "252   10,823.91  \n",
       "232   11,289.63  \n",
       "128   13,972.34  \n",
       "255   17,282.20  \n",
       "\n",
       "[305 rows x 3 columns]"
      ]
     },
     "execution_count": 91,
     "metadata": {},
     "output_type": "execute_result"
    }
   ],
   "source": [
    "summed_mutation_overview(df)"
   ]
  },
  {
   "cell_type": "markdown",
   "metadata": {},
   "source": [
    "### Category mutations"
   ]
  },
  {
   "cell_type": "code",
   "execution_count": 92,
   "metadata": {
    "collapsed": false
   },
   "outputs": [
    {
     "data": {
      "text/html": [
       "<div>\n",
       "<table border=\"1\" class=\"dataframe\">\n",
       "  <thead>\n",
       "    <tr style=\"text-align: right;\">\n",
       "      <th></th>\n",
       "      <th>amount</th>\n",
       "    </tr>\n",
       "    <tr>\n",
       "      <th>category</th>\n",
       "      <th></th>\n",
       "    </tr>\n",
       "  </thead>\n",
       "  <tbody>\n",
       "    <tr>\n",
       "      <th>other</th>\n",
       "      <td>-39,257.51</td>\n",
       "    </tr>\n",
       "    <tr>\n",
       "      <th>rent</th>\n",
       "      <td>-12,218.40</td>\n",
       "    </tr>\n",
       "    <tr>\n",
       "      <th>travel</th>\n",
       "      <td>-294.91</td>\n",
       "    </tr>\n",
       "    <tr>\n",
       "      <th>telecom</th>\n",
       "      <td>-60.00</td>\n",
       "    </tr>\n",
       "    <tr>\n",
       "      <th>tax</th>\n",
       "      <td>4,313.00</td>\n",
       "    </tr>\n",
       "    <tr>\n",
       "      <th>family and friends</th>\n",
       "      <td>12,494.65</td>\n",
       "    </tr>\n",
       "    <tr>\n",
       "      <th>student loan</th>\n",
       "      <td>28,571.83</td>\n",
       "    </tr>\n",
       "  </tbody>\n",
       "</table>\n",
       "</div>"
      ],
      "text/plain": [
       "                        amount\n",
       "category                      \n",
       "other               -39,257.51\n",
       "rent                -12,218.40\n",
       "travel                 -294.91\n",
       "telecom                 -60.00\n",
       "tax                   4,313.00\n",
       "family and friends   12,494.65\n",
       "student loan         28,571.83"
      ]
     },
     "metadata": {},
     "output_type": "display_data"
    }
   ],
   "source": [
    "print_category_overview(create_category_overview(df, cats))"
   ]
  },
  {
   "cell_type": "markdown",
   "metadata": {},
   "source": [
    "#### Uncategorised"
   ]
  },
  {
   "cell_type": "code",
   "execution_count": 93,
   "metadata": {
    "collapsed": false
   },
   "outputs": [
    {
     "data": {
      "text/html": [
       "<div>\n",
       "<table border=\"1\" class=\"dataframe\">\n",
       "  <thead>\n",
       "    <tr style=\"text-align: right;\">\n",
       "      <th></th>\n",
       "      <th>name</th>\n",
       "      <th>account_to</th>\n",
       "      <th>amount</th>\n",
       "    </tr>\n",
       "  </thead>\n",
       "  <tbody>\n",
       "    <tr>\n",
       "      <th>62</th>\n",
       "      <td>Patcho</td>\n",
       "      <td>NL64RABO0132239973</td>\n",
       "      <td>-1295</td>\n",
       "    </tr>\n",
       "    <tr>\n",
       "      <th>95</th>\n",
       "      <td>Bart Heijke</td>\n",
       "      <td>NL65INGB0001355880</td>\n",
       "      <td>-1000</td>\n",
       "    </tr>\n",
       "    <tr>\n",
       "      <th>133</th>\n",
       "      <td>Anderzorg</td>\n",
       "      <td>NL87INGB0676416217</td>\n",
       "      <td>-91728</td>\n",
       "    </tr>\n",
       "    <tr>\n",
       "      <th>139</th>\n",
       "      <td>DW DE MUINCK KEIZER</td>\n",
       "      <td>NL71ABNA0580426815</td>\n",
       "      <td>600</td>\n",
       "    </tr>\n",
       "    <tr>\n",
       "      <th>140</th>\n",
       "      <td>JRM MARTENS</td>\n",
       "      <td>NL79ABNA0576503312</td>\n",
       "      <td>300</td>\n",
       "    </tr>\n",
       "    <tr>\n",
       "      <th>142</th>\n",
       "      <td>C VAN DORP</td>\n",
       "      <td>NL54ABNA0459575791</td>\n",
       "      <td>-800</td>\n",
       "    </tr>\n",
       "    <tr>\n",
       "      <th>146</th>\n",
       "      <td>Stichting Derdengelden Pink Tie</td>\n",
       "      <td>NL82ABNA0575812036</td>\n",
       "      <td>-10500</td>\n",
       "    </tr>\n",
       "    <tr>\n",
       "      <th>149</th>\n",
       "      <td>Hr B Heijke</td>\n",
       "      <td>NL65INGB0001355880</td>\n",
       "      <td>1750</td>\n",
       "    </tr>\n",
       "    <tr>\n",
       "      <th>150</th>\n",
       "      <td>Hr B Rijnders</td>\n",
       "      <td>NL96INGB0008695021</td>\n",
       "      <td>1750</td>\n",
       "    </tr>\n",
       "    <tr>\n",
       "      <th>168</th>\n",
       "      <td>bol.com b.v.</td>\n",
       "      <td>NL27INGB0000026500</td>\n",
       "      <td>-1495</td>\n",
       "    </tr>\n",
       "    <tr>\n",
       "      <th>169</th>\n",
       "      <td>Lars van Doorn</td>\n",
       "      <td>NL24INGB0008582924</td>\n",
       "      <td>-3175</td>\n",
       "    </tr>\n",
       "    <tr>\n",
       "      <th>203</th>\n",
       "      <td>Bart Rijnders</td>\n",
       "      <td>NL96INGB0008695021</td>\n",
       "      <td>-700</td>\n",
       "    </tr>\n",
       "    <tr>\n",
       "      <th>207</th>\n",
       "      <td>MW M C H van Rooijen</td>\n",
       "      <td>NL89INGB0000894019</td>\n",
       "      <td>1100</td>\n",
       "    </tr>\n",
       "    <tr>\n",
       "      <th>209</th>\n",
       "      <td>bol.com b.v.</td>\n",
       "      <td>NL27INGB0000026500</td>\n",
       "      <td>-1393</td>\n",
       "    </tr>\n",
       "    <tr>\n",
       "      <th>224</th>\n",
       "      <td>Bart Heijke</td>\n",
       "      <td>NL65INGB0001355880</td>\n",
       "      <td>-500</td>\n",
       "    </tr>\n",
       "    <tr>\n",
       "      <th>226</th>\n",
       "      <td>Stichting Derdengelden Buckaroo</td>\n",
       "      <td>NL19DEUT0319821366</td>\n",
       "      <td>-1000</td>\n",
       "    </tr>\n",
       "    <tr>\n",
       "      <th>232</th>\n",
       "      <td>Hr W L S Mols</td>\n",
       "      <td>NL54INGB0001190402</td>\n",
       "      <td>1617</td>\n",
       "    </tr>\n",
       "    <tr>\n",
       "      <th>252</th>\n",
       "      <td>JOBMOTION BV</td>\n",
       "      <td>NL76ABNA0470190590</td>\n",
       "      <td>27339</td>\n",
       "    </tr>\n",
       "    <tr>\n",
       "      <th>258</th>\n",
       "      <td>bol.com b.v.</td>\n",
       "      <td>NL27INGB0000026500</td>\n",
       "      <td>-3250</td>\n",
       "    </tr>\n",
       "    <tr>\n",
       "      <th>271</th>\n",
       "      <td>JRM Martens</td>\n",
       "      <td>NL79ABNA0576503312</td>\n",
       "      <td>-1250</td>\n",
       "    </tr>\n",
       "    <tr>\n",
       "      <th>279</th>\n",
       "      <td>Universiteit Leiden</td>\n",
       "      <td>NL28RABO0129723665</td>\n",
       "      <td>-250</td>\n",
       "    </tr>\n",
       "    <tr>\n",
       "      <th>293</th>\n",
       "      <td>Stichting Muziekpaleis</td>\n",
       "      <td>NL91RABO0135497523</td>\n",
       "      <td>-3200</td>\n",
       "    </tr>\n",
       "    <tr>\n",
       "      <th>315</th>\n",
       "      <td>cewe color nederland b.v.</td>\n",
       "      <td>NL29RABO0142355763</td>\n",
       "      <td>-4419</td>\n",
       "    </tr>\n",
       "    <tr>\n",
       "      <th>319</th>\n",
       "      <td>Lidl Nederland GmbH</td>\n",
       "      <td>NL98ABNA0544308379</td>\n",
       "      <td>-1798</td>\n",
       "    </tr>\n",
       "    <tr>\n",
       "      <th>327</th>\n",
       "      <td>JOBMOTION BV</td>\n",
       "      <td>NL76ABNA0470190590</td>\n",
       "      <td>27339</td>\n",
       "    </tr>\n",
       "    <tr>\n",
       "      <th>331</th>\n",
       "      <td>Hr B Heijke</td>\n",
       "      <td>NL65INGB0001355880</td>\n",
       "      <td>1100</td>\n",
       "    </tr>\n",
       "    <tr>\n",
       "      <th>344</th>\n",
       "      <td>Hr H J Duker</td>\n",
       "      <td>NL47INGB0001072285</td>\n",
       "      <td>1000</td>\n",
       "    </tr>\n",
       "    <tr>\n",
       "      <th>345</th>\n",
       "      <td>Hr B Rijnders</td>\n",
       "      <td>NL96INGB0008695021</td>\n",
       "      <td>1000</td>\n",
       "    </tr>\n",
       "    <tr>\n",
       "      <th>353</th>\n",
       "      <td>Hr B Heijke</td>\n",
       "      <td>NL65INGB0001355880</td>\n",
       "      <td>3000</td>\n",
       "    </tr>\n",
       "    <tr>\n",
       "      <th>357</th>\n",
       "      <td>Stichting Derdengelden Pink Tie</td>\n",
       "      <td>NL82ABNA0575812036</td>\n",
       "      <td>-5000</td>\n",
       "    </tr>\n",
       "    <tr>\n",
       "      <th>...</th>\n",
       "      <td>...</td>\n",
       "      <td>...</td>\n",
       "      <td>...</td>\n",
       "    </tr>\n",
       "    <tr>\n",
       "      <th>4614</th>\n",
       "      <td>NAAR Bonusrenterekening</td>\n",
       "      <td>8657598</td>\n",
       "      <td>-5000</td>\n",
       "    </tr>\n",
       "    <tr>\n",
       "      <th>4615</th>\n",
       "      <td>HOOGVLIET B.V.</td>\n",
       "      <td>121874265</td>\n",
       "      <td>10527</td>\n",
       "    </tr>\n",
       "    <tr>\n",
       "      <th>4616</th>\n",
       "      <td>NAAR Bonusrenterekening</td>\n",
       "      <td>8657598</td>\n",
       "      <td>-11000</td>\n",
       "    </tr>\n",
       "    <tr>\n",
       "      <th>4617</th>\n",
       "      <td>HOOGVLIET B.V.</td>\n",
       "      <td>121874265</td>\n",
       "      <td>10838</td>\n",
       "    </tr>\n",
       "    <tr>\n",
       "      <th>4618</th>\n",
       "      <td>NAAR Bonusrenterekening</td>\n",
       "      <td>8657598</td>\n",
       "      <td>-8000</td>\n",
       "    </tr>\n",
       "    <tr>\n",
       "      <th>4619</th>\n",
       "      <td>HOOGVLIET B.V.</td>\n",
       "      <td>121874265</td>\n",
       "      <td>7433</td>\n",
       "    </tr>\n",
       "    <tr>\n",
       "      <th>4620</th>\n",
       "      <td>G EN C VAN ROOIJEN-DE GIER</td>\n",
       "      <td>3926452</td>\n",
       "      <td>-825</td>\n",
       "    </tr>\n",
       "    <tr>\n",
       "      <th>4621</th>\n",
       "      <td>G EN C VAN ROOIJEN-DE GIER</td>\n",
       "      <td>3926452</td>\n",
       "      <td>-5000</td>\n",
       "    </tr>\n",
       "    <tr>\n",
       "      <th>4622</th>\n",
       "      <td>NAAR Bonusrenterekening</td>\n",
       "      <td>8657598</td>\n",
       "      <td>-9000</td>\n",
       "    </tr>\n",
       "    <tr>\n",
       "      <th>4623</th>\n",
       "      <td>HOOGVLIET B.V.</td>\n",
       "      <td>121874265</td>\n",
       "      <td>14569</td>\n",
       "    </tr>\n",
       "    <tr>\n",
       "      <th>4624</th>\n",
       "      <td>NAAR Bonusrenterekening</td>\n",
       "      <td>8657598</td>\n",
       "      <td>-6000</td>\n",
       "    </tr>\n",
       "    <tr>\n",
       "      <th>4625</th>\n",
       "      <td>HOOGVLIET B.V.</td>\n",
       "      <td>121874265</td>\n",
       "      <td>7080</td>\n",
       "    </tr>\n",
       "    <tr>\n",
       "      <th>4626</th>\n",
       "      <td>NAAR Bonusrenterekening</td>\n",
       "      <td>8657598</td>\n",
       "      <td>-17500</td>\n",
       "    </tr>\n",
       "    <tr>\n",
       "      <th>4627</th>\n",
       "      <td>HOOGVLIET B.V.</td>\n",
       "      <td>121874265</td>\n",
       "      <td>6705</td>\n",
       "    </tr>\n",
       "    <tr>\n",
       "      <th>4628</th>\n",
       "      <td>HOOGVLIET B.V.</td>\n",
       "      <td>121874265</td>\n",
       "      <td>4884</td>\n",
       "    </tr>\n",
       "    <tr>\n",
       "      <th>4629</th>\n",
       "      <td>G EN C VAN ROOIJEN-DE GIER</td>\n",
       "      <td>3926452</td>\n",
       "      <td>-17500</td>\n",
       "    </tr>\n",
       "    <tr>\n",
       "      <th>4630</th>\n",
       "      <td>HOOGVLIET B.V.</td>\n",
       "      <td>121874265</td>\n",
       "      <td>7433</td>\n",
       "    </tr>\n",
       "    <tr>\n",
       "      <th>4631</th>\n",
       "      <td>HOOGVLIET B.V.</td>\n",
       "      <td>121874265</td>\n",
       "      <td>16033</td>\n",
       "    </tr>\n",
       "    <tr>\n",
       "      <th>4632</th>\n",
       "      <td>NAAR Bonusrenterekening</td>\n",
       "      <td>8657598</td>\n",
       "      <td>-50000</td>\n",
       "    </tr>\n",
       "    <tr>\n",
       "      <th>4633</th>\n",
       "      <td>G EN C VAN ROOIJEN-DE GIER</td>\n",
       "      <td>3926452</td>\n",
       "      <td>17500</td>\n",
       "    </tr>\n",
       "    <tr>\n",
       "      <th>4634</th>\n",
       "      <td>VAN Bonusrenterekening</td>\n",
       "      <td>8657598</td>\n",
       "      <td>32500</td>\n",
       "    </tr>\n",
       "    <tr>\n",
       "      <th>4635</th>\n",
       "      <td>G EN C VAN ROOIJEN-DE GIER</td>\n",
       "      <td>3926452</td>\n",
       "      <td>-19500</td>\n",
       "    </tr>\n",
       "    <tr>\n",
       "      <th>4636</th>\n",
       "      <td>HOOGVLIET B.V.</td>\n",
       "      <td>121874265</td>\n",
       "      <td>9766</td>\n",
       "    </tr>\n",
       "    <tr>\n",
       "      <th>4637</th>\n",
       "      <td>SPOEDOPDRACHT   GE2008071115061</td>\n",
       "      <td>121874265</td>\n",
       "      <td>9499</td>\n",
       "    </tr>\n",
       "    <tr>\n",
       "      <th>4638</th>\n",
       "      <td>NAAR Bonusrenterekening</td>\n",
       "      <td>8657598</td>\n",
       "      <td>-33000</td>\n",
       "    </tr>\n",
       "    <tr>\n",
       "      <th>4639</th>\n",
       "      <td>G A M VAN ROOYEN-DE GIER</td>\n",
       "      <td>344603</td>\n",
       "      <td>-90416</td>\n",
       "    </tr>\n",
       "    <tr>\n",
       "      <th>4640</th>\n",
       "      <td>HOOGVLIET B.V.</td>\n",
       "      <td>121874265</td>\n",
       "      <td>7658</td>\n",
       "    </tr>\n",
       "    <tr>\n",
       "      <th>4641</th>\n",
       "      <td>HOOGVLIET B.V.</td>\n",
       "      <td>121874265</td>\n",
       "      <td>11759</td>\n",
       "    </tr>\n",
       "    <tr>\n",
       "      <th>4642</th>\n",
       "      <td>HOOGVLIET B.V.</td>\n",
       "      <td>121874265</td>\n",
       "      <td>10492</td>\n",
       "    </tr>\n",
       "    <tr>\n",
       "      <th>4643</th>\n",
       "      <td>Hoogvliet BV</td>\n",
       "      <td>653346328</td>\n",
       "      <td>3474</td>\n",
       "    </tr>\n",
       "  </tbody>\n",
       "</table>\n",
       "<p>1384 rows × 3 columns</p>\n",
       "</div>"
      ],
      "text/plain": [
       "                                 name          account_to  amount\n",
       "62                             Patcho  NL64RABO0132239973   -1295\n",
       "95                        Bart Heijke  NL65INGB0001355880   -1000\n",
       "133                         Anderzorg  NL87INGB0676416217  -91728\n",
       "139               DW DE MUINCK KEIZER  NL71ABNA0580426815     600\n",
       "140                       JRM MARTENS  NL79ABNA0576503312     300\n",
       "142                        C VAN DORP  NL54ABNA0459575791    -800\n",
       "146   Stichting Derdengelden Pink Tie  NL82ABNA0575812036  -10500\n",
       "149                       Hr B Heijke  NL65INGB0001355880    1750\n",
       "150                     Hr B Rijnders  NL96INGB0008695021    1750\n",
       "168                      bol.com b.v.  NL27INGB0000026500   -1495\n",
       "169                    Lars van Doorn  NL24INGB0008582924   -3175\n",
       "203                     Bart Rijnders  NL96INGB0008695021    -700\n",
       "207              MW M C H van Rooijen  NL89INGB0000894019    1100\n",
       "209                      bol.com b.v.  NL27INGB0000026500   -1393\n",
       "224                       Bart Heijke  NL65INGB0001355880    -500\n",
       "226   Stichting Derdengelden Buckaroo  NL19DEUT0319821366   -1000\n",
       "232                     Hr W L S Mols  NL54INGB0001190402    1617\n",
       "252                      JOBMOTION BV  NL76ABNA0470190590   27339\n",
       "258                      bol.com b.v.  NL27INGB0000026500   -3250\n",
       "271                       JRM Martens  NL79ABNA0576503312   -1250\n",
       "279               Universiteit Leiden  NL28RABO0129723665    -250\n",
       "293            Stichting Muziekpaleis  NL91RABO0135497523   -3200\n",
       "315         cewe color nederland b.v.  NL29RABO0142355763   -4419\n",
       "319               Lidl Nederland GmbH  NL98ABNA0544308379   -1798\n",
       "327                      JOBMOTION BV  NL76ABNA0470190590   27339\n",
       "331                       Hr B Heijke  NL65INGB0001355880    1100\n",
       "344                      Hr H J Duker  NL47INGB0001072285    1000\n",
       "345                     Hr B Rijnders  NL96INGB0008695021    1000\n",
       "353                       Hr B Heijke  NL65INGB0001355880    3000\n",
       "357   Stichting Derdengelden Pink Tie  NL82ABNA0575812036   -5000\n",
       "...                               ...                 ...     ...\n",
       "4614          NAAR Bonusrenterekening             8657598   -5000\n",
       "4615                   HOOGVLIET B.V.           121874265   10527\n",
       "4616          NAAR Bonusrenterekening             8657598  -11000\n",
       "4617                   HOOGVLIET B.V.           121874265   10838\n",
       "4618          NAAR Bonusrenterekening             8657598   -8000\n",
       "4619                   HOOGVLIET B.V.           121874265    7433\n",
       "4620       G EN C VAN ROOIJEN-DE GIER             3926452    -825\n",
       "4621       G EN C VAN ROOIJEN-DE GIER             3926452   -5000\n",
       "4622          NAAR Bonusrenterekening             8657598   -9000\n",
       "4623                   HOOGVLIET B.V.           121874265   14569\n",
       "4624          NAAR Bonusrenterekening             8657598   -6000\n",
       "4625                   HOOGVLIET B.V.           121874265    7080\n",
       "4626          NAAR Bonusrenterekening             8657598  -17500\n",
       "4627                   HOOGVLIET B.V.           121874265    6705\n",
       "4628                   HOOGVLIET B.V.           121874265    4884\n",
       "4629       G EN C VAN ROOIJEN-DE GIER             3926452  -17500\n",
       "4630                   HOOGVLIET B.V.           121874265    7433\n",
       "4631                   HOOGVLIET B.V.           121874265   16033\n",
       "4632          NAAR Bonusrenterekening             8657598  -50000\n",
       "4633       G EN C VAN ROOIJEN-DE GIER             3926452   17500\n",
       "4634           VAN Bonusrenterekening             8657598   32500\n",
       "4635       G EN C VAN ROOIJEN-DE GIER             3926452  -19500\n",
       "4636                   HOOGVLIET B.V.           121874265    9766\n",
       "4637  SPOEDOPDRACHT   GE2008071115061           121874265    9499\n",
       "4638          NAAR Bonusrenterekening             8657598  -33000\n",
       "4639         G A M VAN ROOYEN-DE GIER              344603  -90416\n",
       "4640                   HOOGVLIET B.V.           121874265    7658\n",
       "4641                   HOOGVLIET B.V.           121874265   11759\n",
       "4642                   HOOGVLIET B.V.           121874265   10492\n",
       "4643                     Hoogvliet BV           653346328    3474\n",
       "\n",
       "[1384 rows x 3 columns]"
      ]
     },
     "metadata": {},
     "output_type": "display_data"
    }
   ],
   "source": [
    "print_uncategorised(df)"
   ]
  },
  {
   "cell_type": "markdown",
   "metadata": {},
   "source": [
    "##### Heatmaps"
   ]
  },
  {
   "cell_type": "code",
   "execution_count": 94,
   "metadata": {
    "collapsed": false
   },
   "outputs": [],
   "source": [
    "pt_ym_amount = df[['year','month','amount']].groupby(['year','month'], as_index=False).sum()\n",
    "pt_ym_amount = pt_ym_amount.pivot('year','month','amount')\n",
    "# display(pt_ym_amount)"
   ]
  },
  {
   "cell_type": "code",
   "execution_count": 95,
   "metadata": {
    "collapsed": false,
    "scrolled": true
   },
   "outputs": [
    {
     "data": {
      "image/png": "[encoded data removed]",
      "text/plain": [
       "<matplotlib.figure.Figure at 0x7f7c041e0080>"
      ]
     },
     "metadata": {},
     "output_type": "display_data"
    }
   ],
   "source": [
    "cmap = sns.diverging_palette(20, 220, sep=20, as_cmap=True)\n",
    "fig, ax = plt.subplots(figsize=(12,5)) \n",
    "sns.heatmap(pt_ym_amount, linewidth=.4, fmt='.0f', annot=True, cmap=cmap, ax=ax);"
   ]
  },
  {
   "cell_type": "code",
   "execution_count": 98,
   "metadata": {
    "collapsed": false
   },
   "outputs": [],
   "source": [
    "pt_ym_balance = df[['year','month','balance']].groupby(['year','month'], as_index=False).sum()\n",
    "pt_ym_balance = pt_ym_balance.pivot('year','month','balance')\n",
    "#display(pt_ym_balance)"
   ]
  },
  {
   "cell_type": "code",
   "execution_count": 97,
   "metadata": {
    "collapsed": false,
    "scrolled": true
   },
   "outputs": [
    {
     "data": {
      "image/png": "[encoded data removed]",
      "text/plain": [
       "<matplotlib.figure.Figure at 0x7f7c0918e978>"
      ]
     },
     "metadata": {},
     "output_type": "display_data"
    }
   ],
   "source": [
    "cmap = sns.diverging_palette(20, 220, sep=20, as_cmap=True)\n",
    "fig, ax = plt.subplots(figsize=(12,5)) \n",
    "sns.heatmap(pt_ym_balance, linewidth=.4, fmt='.0f', annot=True, cmap=cmap, ax=ax);"
   ]
  }
 ],
 "metadata": {
  "kernelspec": {
   "display_name": "Python 3",
   "language": "python",
   "name": "python3"
  },
  "language_info": {
   "codemirror_mode": {
    "name": "ipython",
    "version": 3
   },
   "file_extension": ".py",
   "mimetype": "text/x-python",
   "name": "python",
   "nbconvert_exporter": "python",
   "pygments_lexer": "ipython3",
   "version": "3.6.0"
  }
 },
 "nbformat": 4,
 "nbformat_minor": 2
}
